{
 "cells": [
  {
   "cell_type": "markdown",
   "metadata": {},
   "source": [
    "# Data Cleaning\n",
    "##  Retrieving reviews¶"
   ]
  },
  {
   "cell_type": "code",
   "execution_count": 1,
   "metadata": {},
   "outputs": [],
   "source": [
    "import os\n",
    "import pandas as pd\n",
    "import nltk\n",
    "import numpy as np\n",
    "import pandas as pd\n",
    "import regex\n",
    "import string\n",
    "import unicodedata\n",
    "import html\n",
    "from html.parser import HTMLParser\n",
    "\n",
    "from nltk import WordNetLemmatizer\n",
    "from nltk import sent_tokenize\n",
    "from nltk import pos_tag\n",
    "from nltk.corpus import wordnet as wn\n",
    "from nltk.corpus import stopwords\n",
    "from nltk.sentiment.util import  mark_negation\n",
    "from nltk.tokenize import TweetTokenizer\n",
    "\n",
    "from sklearn.base import BaseEstimator, TransformerMixin\n",
    "from sklearn.feature_extraction.text import TfidfVectorizer\n",
    "from sklearn.feature_extraction.text import CountVectorizer\n",
    "from sklearn.preprocessing import LabelEncoder\n",
    "from sklearn.linear_model import LogisticRegression\n",
    "from sklearn.naive_bayes import MultinomialNB\n",
    "from sklearn.metrics import classification_report as clsr\n",
    "from sklearn.metrics import confusion_matrix, cohen_kappa_score\n",
    "from sklearn.model_selection import train_test_split"
   ]
  },
  {
   "cell_type": "markdown",
   "metadata": {},
   "source": [
    "## Cleaning and Tokenizing\n",
    "We need to build a preprocessor first tokenize the reviews."
   ]
  },
  {
   "cell_type": "code",
   "execution_count": 2,
   "metadata": {},
   "outputs": [],
   "source": [
    "class Preprocessor(BaseEstimator, TransformerMixin):\n",
    "\n",
    "\n",
    "    def __init__(self, lower=True, strip=True, remove_punct=True, remove_diacritics=True, unicode_form='NFC', remove_stop=False, stem_tokens=False, lemmatize_tokens=True, language='english'):\n",
    "        \n",
    "        self.lower      = lower\n",
    "        self.strip      = strip\n",
    "        self.remove_punct = remove_punct\n",
    "        self.remove_diacritics = remove_diacritics\n",
    "        self.set_unicode_form(unicode_form)\n",
    "     \n",
    "        self.remove_stop = remove_stop\n",
    "        self.stem_tokens = stem_tokens\n",
    "        self.lemmatize_tokens = lemmatize_tokens    \n",
    "\n",
    "        self.stopwords  = set(nltk.corpus.stopwords.words(language))\n",
    "        self.punct      = set(string.punctuation)\n",
    "\n",
    "        self.lemmatizer = WordNetLemmatizer()\n",
    "        self.stemmer = nltk.stem.SnowballStemmer(language) \n",
    "        self.tokenizer = TweetTokenizer()\n",
    "\n",
    " \n",
    "    def transform(self, X):\n",
    "        return [\n",
    "            list(self.tokenize(doc)) for doc in X\n",
    "        ]\n",
    "\n",
    "    def inverse_transform(self, X):\n",
    "        return [\" \".join(doc) for doc in X]\n",
    "\n",
    "\n",
    "    def fit(self, X, y=None):\n",
    "        return self\n",
    "\n",
    " \n",
    "    def set_stopwords(self, stopwords):\n",
    "        self.stopwords  = stopwords or set(nltk.corpus.stopwords.words('english'))\n",
    "\n",
    "\n",
    "    def set_punct(self, punct):\n",
    "        self.punct      = punct or set(string.punctuation)\n",
    "\n",
    "\n",
    "    def set_unicode_form(self, unicode_form):\n",
    "        self.unicode_form = unicode_form.strip().upper()\n",
    "        if not self.unicode_form in ['NFC','NFD','NFKC','NFKD']:\n",
    "            self.unicode_form = 'NFC'\n",
    "\n",
    "\n",
    "    def show_settings(self):\n",
    "        print(\"lower: \",self.lower)\n",
    "        print(\"strip: \",self.strip)\n",
    "        print(\"remove_punct: \",self.remove_punct)\n",
    "        print(\"remove_diacritics: \",self.remove_diacritics)\n",
    "        print(\"unicode_form: \",self.unicode_form)\n",
    "        print(\"remove_stop: \",self.remove_stop)\n",
    "        print(\"stem_tokens: \",self.stem_tokens)\n",
    "        print(\"lemmatize_tokens\",self.lemmatize_tokens)       \n",
    "        print(\"lemmatizer: \",type(self.lemmatizer).__name__)\n",
    "        print(\"stemmer: \",type(self.stemmer).__name__) \n",
    "        print(\"punctuation: \",self.punct)\n",
    "        print(\"stopwords: \",self.stopwords)\n",
    "\n",
    "\n",
    "    # convert nltk pos-tag to wordnet pos-tag\n",
    "    # for use by the wordnet lemmatizer\n",
    "    @staticmethod\n",
    "    def get_wordnet_tag(nltk_tag):\n",
    "        if nltk_tag.startswith('N'):\n",
    "            return wn.NOUN\n",
    "        elif nltk_tag.startswith('V'):\n",
    "            return wn.VERB\n",
    "        elif nltk_tag.startswith('J'):\n",
    "            return wn.ADJ\n",
    "        elif nltk_tag.startswith('R'):\n",
    "            return wn.ADV\n",
    "        else:          \n",
    "            return None\n",
    "\n",
    "    # determine whether a string is comprised of all punctuation-like characters\n",
    "    def is_punct(self, text):\n",
    "        if text in self.punctuation:\n",
    "            return True\n",
    "        if regex.match(r\"[\\p{P}\\p{Mn}\\p{Sk}]+\", text):\n",
    "            return True\n",
    "        return False\n",
    "\n",
    "\n",
    "    # normalize token strings\n",
    "    def normalize_string(self, token):\n",
    "\n",
    "        token = html.unescape(token)\n",
    "        token = token.lower() if self.lower else token\n",
    "        token = token.strip(' _*')  if self.strip else token\n",
    "\n",
    "        if self.remove_diacritics:\n",
    "            token = regex.sub(\"\\p{Mn}\",'',unicodedata.normalize('NFD',token)) \n",
    "\n",
    "        #not is in the stopword list, but n't isn'\n",
    "        if token == \"n't\" and self.stopwords:\n",
    "            token = \"not\"\n",
    "      \n",
    "        return unicodedata.normalize(self.unicode_form,token)\n",
    "\n",
    "    # determine whether a string is comprised completely\n",
    "    # of things that seem like punctuation\n",
    "    def is_punct(self, text):\n",
    "        if text in string.punctuation:\n",
    "            return True\n",
    "        if regex.match(r\"^[\\p{P}\\p{Mn}\\p{Sk}]+$\", text):\n",
    "            return True\n",
    "        return False\n",
    "\n",
    "    # tokenize the document with optional normalization\n",
    "    def tokenize(self, document, all_fields=False):\n",
    "        tokens = []\n",
    "        for sent in sent_tokenize(document):\n",
    "            cleaner_sent = html.unescape(sent)\n",
    "            for token in nltk.pos_tag(self.tokenizer.tokenize(cleaner_sent)):\n",
    "                stem = ''\n",
    "                token_text = self.normalize_string(token[0])\n",
    "                token_pos = token[1]\n",
    "                if self.remove_punct and self.is_punct(token_text):\n",
    "                #if remove_punct and token_text in string.punctuation:\n",
    "                    continue\n",
    "                if self.remove_stop and token_text in self.stopwords:\n",
    "                    continue\n",
    "                if self.stem_tokens or all_fields:\n",
    "                    stem = self.stemmer.stem(token_text)\n",
    "                if self.lemmatize_tokens or all_fields:\n",
    "                    wordnet_tag = self.get_wordnet_tag(token_pos)\n",
    "                    if wordnet_tag is not None:\n",
    "                        lemma = self.lemmatizer.lemmatize(token_text,wordnet_tag)\n",
    "                    else:\n",
    "                        lemma = token_text\n",
    "                if all_fields:\n",
    "                    tokens.append({'token': token_text, 'stem': stem, 'lemma': lemma})\n",
    "                elif self.stem_tokens:\n",
    "                    tokens.append(stem)\n",
    "                elif self.lemmatize_tokens:\n",
    "                    tokens.append(lemma)\n",
    "                else:\n",
    "                    tokens.append(token_text)     \n",
    "        return tokens"
   ]
  },
  {
   "cell_type": "markdown",
   "metadata": {},
   "source": [
    "# Deceptive Classifier Modeling"
   ]
  },
  {
   "cell_type": "markdown",
   "metadata": {},
   "source": [
    "## Support Vector Machine (SVM)¶"
   ]
  },
  {
   "cell_type": "code",
   "execution_count": 3,
   "metadata": {},
   "outputs": [],
   "source": [
    "mydf=pd.read_csv(\"./Hotel_reviews.csv\")\n",
    "X_data=mydf['Review']\n",
    "y_labels=mydf['Authenticity']\n",
    "X_data_train,X_data_test,y_labels_train,y_labels_test=train_test_split(X_data,y_labels,test_size=0.2,random_state=1)"
   ]
  },
  {
   "cell_type": "code",
   "execution_count": 4,
   "metadata": {},
   "outputs": [
    {
     "name": "stdout",
     "output_type": "stream",
     "text": [
      "Training data samples:  1280\n",
      "Training data labels:  1280\n",
      "Test data samples:  320\n",
      "Test data labels:  320\n"
     ]
    }
   ],
   "source": [
    "# prepare labeled training and a test data\n",
    "\n",
    "my_label_encoder = LabelEncoder()\n",
    "y_labels_train = my_label_encoder.fit_transform(y_labels_train)\n",
    "y_labels_test = my_label_encoder.fit_transform(y_labels_test)\n",
    "\n",
    "\n",
    "print(\"Training data samples: \",len(X_data_train))\n",
    "print(\"Training data labels: \",len(y_labels_train))\n",
    "print(\"Test data samples: \",len(X_data_test))\n",
    "print(\"Test data labels: \",len(y_labels_test))"
   ]
  },
  {
   "cell_type": "code",
   "execution_count": 5,
   "metadata": {},
   "outputs": [],
   "source": [
    "import time\n",
    "from sklearn.pipeline import Pipeline, FeatureUnion\n",
    "from sklearn.svm import SVC"
   ]
  },
  {
   "cell_type": "code",
   "execution_count": 6,
   "metadata": {},
   "outputs": [],
   "source": [
    "def identity(arg):\n",
    "    \"\"\"\n",
    "    Simple identity function works as a passthrough.\n",
    "    \"\"\"\n",
    "    return arg\n",
    "\n",
    "def timeit(func):\n",
    "    \"\"\"\n",
    "    Simple timing decorator\n",
    "    \"\"\"\n",
    "    def wrapper(*args, **kwargs):\n",
    "        start  = time.time()\n",
    "        result = func(*args, **kwargs)\n",
    "        delta  = time.time() - start\n",
    "        return result, delta\n",
    "    return wrapper"
   ]
  },
  {
   "cell_type": "code",
   "execution_count": 7,
   "metadata": {},
   "outputs": [],
   "source": [
    "class VaderFeatureExtractor(BaseEstimator, TransformerMixin):\n",
    "    \"\"\"Takes in a corpus of tweets and calculates features using the Vader method\"\"\"\n",
    "\n",
    "    def __init__(self):\n",
    "        self.sid = SentimentIntensityAnalyzer()\n",
    "\n",
    "\n",
    "    def vader_score(self,sentence):\n",
    "        \"\"\" Calculates sentiment scores for a sentence using the Vader method \"\"\"\n",
    "        pol_scores = self.sid.polarity_scores(sentence)\n",
    "        return(list(pol_scores.values()))\n",
    "\n",
    "    def transform(self, X, y=None):\n",
    "        \"\"\"Applies vader_score on a data.frame containing tweets \"\"\"\n",
    "        values = []\n",
    "        for tweet in X:\n",
    "            values.append(self.vader_score(tweet))\n",
    "\n",
    "        return(np.array(values))\n",
    "\n",
    "    def fit(self, X, y=None):\n",
    "        \"\"\"Returns `self` unless something different happens in train and test\"\"\"\n",
    "        return self"
   ]
  },
  {
   "cell_type": "code",
   "execution_count": 8,
   "metadata": {},
   "outputs": [],
   "source": [
    "@timeit\n",
    "def build_model(X_data, y_labels, label_encoder, outpath=None, vectorizer=\"tfidf\", classifier=\"svm\"):\n",
    " \n",
    "    # instantiate a preprocessor\n",
    "    my_preprocessor = Preprocessor(remove_punct=True, remove_stop=True, lemmatize_tokens=True)\n",
    "\n",
    "    # choose and instantiate a vectorizer\n",
    "    if vectorizer == \"count\":\n",
    "         my_vectorizer = CountVectorizer(tokenizer=identity, preprocessor=None, lowercase=False)\n",
    "    elif vectorizer == \"tfidf\":\n",
    "        my_vectorizer = TfidfVectorizer(tokenizer=identity, preprocessor=None, lowercase=False)\n",
    "    else:\n",
    "        my_vectorizer = TfidfVectorizer(tokenizer=identity, preprocessor=None, lowercase=False)\n",
    "\n",
    "    # choose and instantiate a classifier\n",
    "    if classifier == \"svm\":\n",
    "        my_classifier = SVC(kernel='linear')\n",
    "    else:\n",
    "        my_classifier = SVC(kernel='linear')\n",
    "    \n",
    "    # create a pipeline   \n",
    "    model = Pipeline([\n",
    "    ('preprocessor', my_preprocessor),\n",
    "    ('vectorizer', my_vectorizer),\n",
    "    ('classifier', my_classifier),\n",
    "    ])\n",
    "\n",
    "    # fit the model - calculae the best model parameters given the data\n",
    "    model.fit(X_data, y_labels)\n",
    "\n",
    "    # store the encoder that was used to prepare the labels\n",
    "    # within the model object \n",
    "    model.labels_ = label_encoder\n",
    "  \n",
    "\n",
    "    # if the user has specified an output path, serialize this\n",
    "    # model to a file\n",
    "    if outpath:\n",
    "        with open(outpath, 'wb') as f:\n",
    "            pickle.dump(model, f)\n",
    "\n",
    "        print(\"Model written out to {}\".format(outpath))\n",
    "\n",
    "    # return the model object\n",
    "    return model\n"
   ]
  },
  {
   "cell_type": "code",
   "execution_count": 9,
   "metadata": {},
   "outputs": [],
   "source": [
    "# get a short, understandable name for the pipeline step\n",
    "# which can be steps such as preprocessor, vectorizer and tokenizer\n",
    "def get_pretty_step_name(step_name):\n",
    "    chop_spot = step_name.find(\"(\")\n",
    "    if chop_spot > 0:\n",
    "        step_name = step_name[0:chop_spot]\n",
    "    return step_name"
   ]
  },
  {
   "cell_type": "code",
   "execution_count": 10,
   "metadata": {},
   "outputs": [],
   "source": [
    "# define a function for evaluating the model\n",
    "@timeit\n",
    "def evaluate_model(model, X_test_data, y_test_labels):\n",
    "    vectorizer_name = get_pretty_step_name(str(model.named_steps['vectorizer']))\n",
    "    classifier_name = get_pretty_step_name(str(model.named_steps['classifier']))\n",
    "    print(vectorizer_name,\"Vectorizer -->\",classifier_name,\"Model \\nClassification Report:\\n\")\n",
    " \n",
    "    y_predicted_labels = model.predict(X_test_data)\n",
    "    print(clsr(y_test_labels, y_predicted_labels, target_names=model.labels_.classes_))"
   ]
  },
  {
   "cell_type": "code",
   "execution_count": 11,
   "metadata": {},
   "outputs": [
    {
     "name": "stdout",
     "output_type": "stream",
     "text": [
      "CountVectorizer Vectorizer --> SVC Model \n",
      "Classification Report:\n",
      "\n",
      "              precision    recall  f1-score   support\n",
      "\n",
      "   deceptive       0.85      0.92      0.89       151\n",
      "    truthful       0.92      0.86      0.89       169\n",
      "\n",
      "    accuracy                           0.89       320\n",
      "   macro avg       0.89      0.89      0.89       320\n",
      "weighted avg       0.89      0.89      0.89       320\n",
      "\n"
     ]
    },
    {
     "data": {
      "text/plain": [
       "(None, 6.152634143829346)"
      ]
     },
     "execution_count": 11,
     "metadata": {},
     "output_type": "execute_result"
    }
   ],
   "source": [
    "#count with svm\n",
    "out_pickle = None\n",
    "model,secs = build_model(X_data_train, y_labels_train, my_label_encoder, outpath=out_pickle, vectorizer=\"count\", classifier=\"svm\")\n",
    "evaluate_model(model, X_data_test, y_labels_test)"
   ]
  },
  {
   "cell_type": "code",
   "execution_count": 12,
   "metadata": {},
   "outputs": [
    {
     "name": "stdout",
     "output_type": "stream",
     "text": [
      "TfidfVectorizer Vectorizer --> SVC Model \n",
      "Classification Report:\n",
      "\n",
      "              precision    recall  f1-score   support\n",
      "\n",
      "   deceptive       0.87      0.92      0.90       151\n",
      "    truthful       0.93      0.88      0.90       169\n",
      "\n",
      "    accuracy                           0.90       320\n",
      "   macro avg       0.90      0.90      0.90       320\n",
      "weighted avg       0.90      0.90      0.90       320\n",
      "\n"
     ]
    },
    {
     "data": {
      "text/plain": [
       "(None, 6.609833240509033)"
      ]
     },
     "execution_count": 12,
     "metadata": {},
     "output_type": "execute_result"
    }
   ],
   "source": [
    "#tfidf with svm\n",
    "out_pickle = None\n",
    "model,secs = build_model(X_data_train, y_labels_train, my_label_encoder, outpath=out_pickle, vectorizer=\"tfidf\", classifier=\"svm\")\n",
    "evaluate_model(model, X_data_test, y_labels_test)"
   ]
  },
  {
   "cell_type": "markdown",
   "metadata": {},
   "source": [
    "By comparing the macro-average of F-score in SVM models, Tfidf Vectorizer with SVC Model is the pipeline with the higher macro-average of F-score 0.90."
   ]
  },
  {
   "cell_type": "markdown",
   "metadata": {},
   "source": [
    "# Performance Evaluation and Analysis"
   ]
  },
  {
   "cell_type": "markdown",
   "metadata": {},
   "source": [
    "## Best pipeline in Support Vector Machine (SVM)"
   ]
  },
  {
   "cell_type": "code",
   "execution_count": 13,
   "metadata": {},
   "outputs": [],
   "source": [
    "import matplotlib.pyplot as plt\n",
    "from sklearn.metrics import plot_confusion_matrix"
   ]
  },
  {
   "cell_type": "code",
   "execution_count": 14,
   "metadata": {},
   "outputs": [],
   "source": [
    "def plot_confusion_matrix(cm, classes,\n",
    "                          normalize=False,\n",
    "                          title='Confusion matrix',\n",
    "                          cmap=plt.cm.Blues):\n",
    "    \"\"\"\n",
    "    This function prints and plots the confusion matrix.\n",
    "    Normalization can be applied by setting `normalize=True`.\n",
    "    \"\"\"\n",
    "    import itertools\n",
    "    if normalize:\n",
    "        cm = cm.astype('float') / cm.sum(axis=1)[:, np.newaxis]\n",
    "        print(\"Normalized confusion matrix\")\n",
    "    else:\n",
    "        print('Confusion matrix, without normalization')\n",
    "\n",
    "    print(cm)\n",
    "\n",
    "    plt.imshow(cm, interpolation='nearest', cmap=cmap)\n",
    "    plt.title(title)\n",
    "    plt.colorbar()\n",
    "    tick_marks = np.arange(len(classes))\n",
    "    plt.xticks(tick_marks, classes, rotation=45)\n",
    "    plt.yticks(tick_marks, classes)\n",
    "\n",
    "    fmt = '.2f' if normalize else 'd'\n",
    "    thresh = cm.max() / 2.\n",
    "    for i, j in itertools.product(range(cm.shape[0]), range(cm.shape[1])):\n",
    "        plt.text(j, i, format(cm[i, j], fmt),\n",
    "                 horizontalalignment=\"center\",\n",
    "                 color=\"white\" if cm[i, j] > thresh else \"black\")\n",
    "\n",
    "    plt.ylabel('Actual')\n",
    "    plt.xlabel('Predicted')\n",
    "    plt.tight_layout()"
   ]
  },
  {
   "cell_type": "code",
   "execution_count": 15,
   "metadata": {},
   "outputs": [],
   "source": [
    "mydf=pd.read_csv(\"./Hotel_reviews.csv\")\n",
    "X_data=mydf['Review']\n",
    "y_labels=mydf['Authenticity']\n",
    "X_data_train,X_data_test,y_labels_train,y_labels_test=train_test_split(X_data,y_labels,test_size=0.2,random_state=1)"
   ]
  },
  {
   "cell_type": "code",
   "execution_count": 16,
   "metadata": {},
   "outputs": [],
   "source": [
    "# get the gold truth labels\n",
    "y_labels_test_matrix = y_labels_test\n",
    "X_data_test_matrix = X_data_test.tolist()"
   ]
  },
  {
   "cell_type": "code",
   "execution_count": 17,
   "metadata": {},
   "outputs": [],
   "source": [
    "# get the predictions on the test data\n",
    "svm_best_model, secs = build_model(X_data_train, y_labels_train, my_label_encoder, outpath=out_pickle, vectorizer=\"tfidf\", classifier=\"svm\")\n",
    "yhat = svm_best_model.predict(X_data_test_matrix)\n",
    "#y_pred = svm_best_model.labels_.inverse_transform(yhat)"
   ]
  },
  {
   "cell_type": "code",
   "execution_count": 18,
   "metadata": {},
   "outputs": [
    {
     "name": "stdout",
     "output_type": "stream",
     "text": [
      "Confusion matrix, without normalization\n",
      "[[139  12]\n",
      " [ 20 149]]\n"
     ]
    },
    {
     "data": {
      "image/png": "[encoded data removed]",
      "text/plain": [
       "<Figure size 432x288 with 2 Axes>"
      ]
     },
     "metadata": {
      "needs_background": "light"
     },
     "output_type": "display_data"
    }
   ],
   "source": [
    "# generate the confusion matrix\n",
    "cnf_matrix = confusion_matrix(y_labels_test_matrix, yhat,labels=['deceptive', 'truthful'])\n",
    "np.set_printoptions(precision=2)\n",
    "\n",
    "# Plot non-normalized confusion matrix\n",
    "plt.grid(False)\n",
    "plot_confusion_matrix(cnf_matrix, classes=['deceptive', 'truthful'], \n",
    "                      title='Support Vector Machine (SVM) Classifier: \\nConfusion matrix for Deceptive Opinion Spam Detection')"
   ]
  },
  {
   "cell_type": "code",
   "execution_count": 19,
   "metadata": {},
   "outputs": [
    {
     "name": "stdout",
     "output_type": "stream",
     "text": [
      "TfidfVectorizer Vectorizer --> SVC Model \n",
      "Classification Report:\n",
      "\n",
      "              precision    recall  f1-score   support\n",
      "\n",
      "   deceptive       0.87      0.92      0.90       151\n",
      "    truthful       0.93      0.88      0.90       169\n",
      "\n",
      "    accuracy                           0.90       320\n",
      "   macro avg       0.90      0.90      0.90       320\n",
      "weighted avg       0.90      0.90      0.90       320\n",
      "\n"
     ]
    },
    {
     "data": {
      "text/plain": [
       "(None, 6.105400085449219)"
      ]
     },
     "execution_count": 19,
     "metadata": {},
     "output_type": "execute_result"
    }
   ],
   "source": [
    "evaluate_model(svm_best_model, X_data_test, y_labels_test)"
   ]
  },
  {
   "cell_type": "code",
   "execution_count": null,
   "metadata": {},
   "outputs": [],
   "source": []
  }
 ],
 "metadata": {
  "kernelspec": {
   "display_name": "Python 3",
   "language": "python",
   "name": "python3"
  },
  "language_info": {
   "codemirror_mode": {
    "name": "ipython",
    "version": 3
   },
   "file_extension": ".py",
   "mimetype": "text/x-python",
   "name": "python",
   "nbconvert_exporter": "python",
   "pygments_lexer": "ipython3",
   "version": "3.8.3"
  }
 },
 "nbformat": 4,
 "nbformat_minor": 4
}
