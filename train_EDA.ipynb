{
 "cells": [
  {
   "cell_type": "code",
   "execution_count": 7,
   "metadata": {},
   "outputs": [
    {
     "data": {
      "text/html": [
       "<div>\n",
       "<style scoped>\n",
       "    .dataframe tbody tr th:only-of-type {\n",
       "        vertical-align: middle;\n",
       "    }\n",
       "\n",
       "    .dataframe tbody tr th {\n",
       "        vertical-align: top;\n",
       "    }\n",
       "\n",
       "    .dataframe thead th {\n",
       "        text-align: right;\n",
       "    }\n",
       "</style>\n",
       "<table border=\"1\" class=\"dataframe\">\n",
       "  <thead>\n",
       "    <tr style=\"text-align: right;\">\n",
       "      <th></th>\n",
       "      <th>Review</th>\n",
       "      <th>Stance</th>\n",
       "      <th>Hotel</th>\n",
       "      <th>Resource</th>\n",
       "      <th>Authenticity</th>\n",
       "    </tr>\n",
       "  </thead>\n",
       "  <tbody>\n",
       "    <tr>\n",
       "      <th>0</th>\n",
       "      <td>['hotel', 'staff', 'nice', 'many', 'inexperien...</td>\n",
       "      <td>negative</td>\n",
       "      <td>swissotel</td>\n",
       "      <td>Web</td>\n",
       "      <td>truthful</td>\n",
       "    </tr>\n",
       "    <tr>\n",
       "      <th>1</th>\n",
       "      <td>['travel', 'hotel', 'family', 'vacation', 'cho...</td>\n",
       "      <td>negative</td>\n",
       "      <td>monaco</td>\n",
       "      <td>MTurk</td>\n",
       "      <td>deceptive</td>\n",
       "    </tr>\n",
       "    <tr>\n",
       "      <th>2</th>\n",
       "      <td>['choose', 'talbott', 'hotel', 'primarily', 'l...</td>\n",
       "      <td>negative</td>\n",
       "      <td>talbott</td>\n",
       "      <td>MTurk</td>\n",
       "      <td>deceptive</td>\n",
       "    </tr>\n",
       "    <tr>\n",
       "      <th>3</th>\n",
       "      <td>['travel', 'chicago', 'husband', 'romantic', '...</td>\n",
       "      <td>positive</td>\n",
       "      <td>sofitel</td>\n",
       "      <td>MTurk</td>\n",
       "      <td>deceptive</td>\n",
       "    </tr>\n",
       "    <tr>\n",
       "      <th>4</th>\n",
       "      <td>['moment', 'step', 'front', 'entrance', 'luxur...</td>\n",
       "      <td>positive</td>\n",
       "      <td>fairmont</td>\n",
       "      <td>TripAdvisor</td>\n",
       "      <td>truthful</td>\n",
       "    </tr>\n",
       "    <tr>\n",
       "      <th>...</th>\n",
       "      <td>...</td>\n",
       "      <td>...</td>\n",
       "      <td>...</td>\n",
       "      <td>...</td>\n",
       "      <td>...</td>\n",
       "    </tr>\n",
       "    <tr>\n",
       "      <th>1275</th>\n",
       "      <td>['room', 'big', 'luxurious', 'befit', 'price',...</td>\n",
       "      <td>negative</td>\n",
       "      <td>swissotel</td>\n",
       "      <td>Web</td>\n",
       "      <td>truthful</td>\n",
       "    </tr>\n",
       "    <tr>\n",
       "      <th>1276</th>\n",
       "      <td>['wow', 'love', 'ambassador', 'east', 'hotel',...</td>\n",
       "      <td>positive</td>\n",
       "      <td>ambassador</td>\n",
       "      <td>MTurk</td>\n",
       "      <td>deceptive</td>\n",
       "    </tr>\n",
       "    <tr>\n",
       "      <th>1277</th>\n",
       "      <td>['husband', 'love', 'hotel', 'staff', 'friendl...</td>\n",
       "      <td>positive</td>\n",
       "      <td>sheraton</td>\n",
       "      <td>MTurk</td>\n",
       "      <td>deceptive</td>\n",
       "    </tr>\n",
       "    <tr>\n",
       "      <th>1278</th>\n",
       "      <td>['wife', 'stay', 'omni', 'hotel', 'chicago', '...</td>\n",
       "      <td>negative</td>\n",
       "      <td>omni</td>\n",
       "      <td>MTurk</td>\n",
       "      <td>deceptive</td>\n",
       "    </tr>\n",
       "    <tr>\n",
       "      <th>1279</th>\n",
       "      <td>['first', 'time', 'visit', 'chicago', 'would',...</td>\n",
       "      <td>positive</td>\n",
       "      <td>knickerbocker</td>\n",
       "      <td>MTurk</td>\n",
       "      <td>deceptive</td>\n",
       "    </tr>\n",
       "  </tbody>\n",
       "</table>\n",
       "<p>1280 rows × 5 columns</p>\n",
       "</div>"
      ],
      "text/plain": [
       "                                                 Review    Stance  \\\n",
       "0     ['hotel', 'staff', 'nice', 'many', 'inexperien...  negative   \n",
       "1     ['travel', 'hotel', 'family', 'vacation', 'cho...  negative   \n",
       "2     ['choose', 'talbott', 'hotel', 'primarily', 'l...  negative   \n",
       "3     ['travel', 'chicago', 'husband', 'romantic', '...  positive   \n",
       "4     ['moment', 'step', 'front', 'entrance', 'luxur...  positive   \n",
       "...                                                 ...       ...   \n",
       "1275  ['room', 'big', 'luxurious', 'befit', 'price',...  negative   \n",
       "1276  ['wow', 'love', 'ambassador', 'east', 'hotel',...  positive   \n",
       "1277  ['husband', 'love', 'hotel', 'staff', 'friendl...  positive   \n",
       "1278  ['wife', 'stay', 'omni', 'hotel', 'chicago', '...  negative   \n",
       "1279  ['first', 'time', 'visit', 'chicago', 'would',...  positive   \n",
       "\n",
       "              Hotel     Resource Authenticity  \n",
       "0         swissotel          Web     truthful  \n",
       "1            monaco        MTurk    deceptive  \n",
       "2           talbott        MTurk    deceptive  \n",
       "3           sofitel        MTurk    deceptive  \n",
       "4          fairmont  TripAdvisor     truthful  \n",
       "...             ...          ...          ...  \n",
       "1275      swissotel          Web     truthful  \n",
       "1276     ambassador        MTurk    deceptive  \n",
       "1277       sheraton        MTurk    deceptive  \n",
       "1278           omni        MTurk    deceptive  \n",
       "1279  knickerbocker        MTurk    deceptive  \n",
       "\n",
       "[1280 rows x 5 columns]"
      ]
     },
     "execution_count": 7,
     "metadata": {},
     "output_type": "execute_result"
    }
   ],
   "source": [
    "import pandas as pd\n",
    "train = pd.read_csv(\"hotel_train.csv\", index_col=0)\n",
    "train"
   ]
  },
  {
   "cell_type": "code",
   "execution_count": 1,
   "metadata": {},
   "outputs": [
    {
     "name": "stdout",
     "output_type": "stream",
     "text": [
      "Requirement already satisfied: nltk in /usr/local/lib/python3.7/site-packages (3.5)\n",
      "Requirement already satisfied: regex in /usr/local/lib/python3.7/site-packages (from nltk) (2020.4.4)\n",
      "Requirement already satisfied: click in /usr/local/lib/python3.7/site-packages (from nltk) (7.1.1)\n",
      "Requirement already satisfied: joblib in /usr/local/lib/python3.7/site-packages (from nltk) (0.14.1)\n",
      "Requirement already satisfied: tqdm in /usr/local/lib/python3.7/site-packages (from nltk) (4.45.0)\n",
      "Requirement already satisfied: regex in /usr/local/lib/python3.7/site-packages (2020.4.4)\n",
      "Requirement already satisfied: scikit-learn==0.23.0 in /usr/local/lib/python3.7/site-packages (0.23.0)\n",
      "Requirement already satisfied: numpy>=1.13.3 in /usr/local/lib/python3.7/site-packages (from scikit-learn==0.23.0) (1.18.4)\n",
      "Requirement already satisfied: scipy>=0.19.1 in /usr/local/lib/python3.7/site-packages (from scikit-learn==0.23.0) (1.5.2)\n",
      "Requirement already satisfied: threadpoolctl>=2.0.0 in /usr/local/lib/python3.7/site-packages (from scikit-learn==0.23.0) (2.1.0)\n",
      "Requirement already satisfied: joblib>=0.11 in /usr/local/lib/python3.7/site-packages (from scikit-learn==0.23.0) (0.14.1)\n"
     ]
    }
   ],
   "source": [
    "!pip3 install nltk\n",
    "!pip3 install regex\n",
    "!pip3 install scikit-learn==0.23.0"
   ]
  },
  {
   "cell_type": "code",
   "execution_count": 2,
   "metadata": {},
   "outputs": [],
   "source": [
    "import html\n",
    "from html.parser import HTMLParser\n",
    "import nltk\n",
    "import matplotlib.pyplot as mplt\n",
    "import numpy as np\n",
    "import pandas as pd\n",
    "import pickle\n",
    "import regex\n",
    "import string\n",
    "import time\n",
    "import unicodedata\n",
    "%matplotlib inline\n",
    "\n",
    "from nltk import WordNetLemmatizer\n",
    "from nltk import sent_tokenize\n",
    "from nltk import pos_tag\n",
    "from nltk.corpus import wordnet as wn\n",
    "from nltk.corpus import stopwords\n",
    "from nltk.sentiment import SentimentIntensityAnalyzer\n",
    "from nltk.sentiment.util import  mark_negation\n",
    "from nltk.tokenize import TweetTokenizer\n",
    "\n",
    "from sklearn.base import BaseEstimator, TransformerMixin\n",
    "from sklearn.feature_extraction.text import TfidfVectorizer\n",
    "from sklearn.feature_extraction.text import CountVectorizer\n",
    "from sklearn.pipeline import Pipeline, FeatureUnion\n",
    "from sklearn.preprocessing import LabelEncoder\n",
    "from sklearn.linear_model import LogisticRegression\n",
    "from sklearn.linear_model import SGDClassifier\n",
    "from sklearn.naive_bayes import MultinomialNB\n",
    "from sklearn.metrics import classification_report as clsr\n",
    "from sklearn.metrics import confusion_matrix, cohen_kappa_score\n",
    "from sklearn.model_selection import train_test_split as tts\n",
    "import matplotlib.pyplot as plt\n",
    "from sklearn.metrics import confusion_matrix"
   ]
  },
  {
   "cell_type": "code",
   "execution_count": 3,
   "metadata": {},
   "outputs": [
    {
     "name": "stderr",
     "output_type": "stream",
     "text": [
      "[nltk_data] Downloading package stopwords to\n",
      "[nltk_data]     /Users/zhiyulin/nltk_data...\n",
      "[nltk_data]   Package stopwords is already up-to-date!\n",
      "[nltk_data] Downloading package wordnet to\n",
      "[nltk_data]     /Users/zhiyulin/nltk_data...\n",
      "[nltk_data]   Package wordnet is already up-to-date!\n",
      "[nltk_data] Downloading package punkt to /Users/zhiyulin/nltk_data...\n",
      "[nltk_data]   Package punkt is already up-to-date!\n",
      "[nltk_data] Downloading package averaged_perceptron_tagger to\n",
      "[nltk_data]     /Users/zhiyulin/nltk_data...\n",
      "[nltk_data]   Package averaged_perceptron_tagger is already up-to-\n",
      "[nltk_data]       date!\n"
     ]
    },
    {
     "data": {
      "text/plain": [
       "True"
      ]
     },
     "execution_count": 3,
     "metadata": {},
     "output_type": "execute_result"
    }
   ],
   "source": [
    "nltk.download('stopwords')\n",
    "nltk.download('wordnet')\n",
    "nltk.download('punkt')\n",
    "nltk.download('averaged_perceptron_tagger')"
   ]
  },
  {
   "cell_type": "code",
   "execution_count": 4,
   "metadata": {},
   "outputs": [],
   "source": [
    "class Preprocessor(BaseEstimator, TransformerMixin):\n",
    "\n",
    "    def __init__(self, lower=True, strip=True, remove_punct=True, \n",
    "                 remove_diacritics=True, unicode_form='NFC', remove_stop=False, \n",
    "                 stem_tokens=False, lemmatize_tokens=True, language='english'):\n",
    "        self.lower = lower\n",
    "        self.strip = strip\n",
    "        self.remove_punct = remove_punct\n",
    "        self.remove_diacritics = remove_diacritics\n",
    "        self.set_unicode_form(unicode_form)\n",
    "        self.remove_stop = remove_stop\n",
    "        self.stem_tokens = stem_tokens\n",
    "        self.lemmatize_tokens = lemmatize_tokens    \n",
    "        self.stopwords  = set(nltk.corpus.stopwords.words(language))\n",
    "        self.punct = set(string.punctuation)\n",
    "        self.lemmatizer = WordNetLemmatizer()\n",
    "        self.stemmer = nltk.stem.SnowballStemmer(language) \n",
    "        self.tokenizer = TweetTokenizer()\n",
    "\n",
    "    def transform(self, X):\n",
    "        return [list(self.tokenize(doc)) for doc in X]\n",
    "\n",
    "    def inverse_transform(self, X):\n",
    "        return [\" \".join(doc) for doc in X]\n",
    "\n",
    "    def fit(self, X, y=None):\n",
    "        return self\n",
    "\n",
    "    def set_stopwords(self, stopwords):\n",
    "        self.stopwords  = stopwords or set(nltk.corpus.stopwords.words('english'))\n",
    "\n",
    "    def set_punct(self, punct):\n",
    "        self.punct      = punct or set(string.punctuation)\n",
    "\n",
    "    def set_unicode_form(self, unicode_form):\n",
    "        self.unicode_form = unicode_form.strip().upper()\n",
    "        if not self.unicode_form in ['NFC','NFD','NFKC','NFKD']:\n",
    "            self.unicode_form = 'NFC'\n",
    "\n",
    "    def get_params(self):\n",
    "        print(\"lower: \",self.lower)\n",
    "        print(\"strip: \",self.strip)\n",
    "        print(\"remove_punct: \",self.remove_punct)\n",
    "        print(\"remove_diacritics: \",self.remove_diacritics)\n",
    "        print(\"unicode_form: \",self.unicode_form)\n",
    "        print(\"remove_stop: \",self.remove_stop)\n",
    "        print(\"stem_tokens: \",self.stem_tokens)\n",
    "        print(\"lemmatize_tokens\",self.lemmatize_tokens)       \n",
    "        print(\"lemmatizer: \",type(self.lemmatizer).__name__)\n",
    "        print(\"stemmer: \",type(self.stemmer).__name__) \n",
    "        print(\"punctuation: \",self.punct)\n",
    "        print(\"stopwords: \",self.stopwords)\n",
    "\n",
    "    # convert nltk pos-tag to wordnet pos-tag\n",
    "    # for use by the wordnet lemmatizer\n",
    "    @staticmethod\n",
    "    def get_wordnet_tag(nltk_tag):\n",
    "        if nltk_tag.startswith('N'):\n",
    "            return wn.NOUN\n",
    "        elif nltk_tag.startswith('V'):\n",
    "            return wn.VERB\n",
    "        elif nltk_tag.startswith('J'):\n",
    "            return wn.ADJ\n",
    "        elif nltk_tag.startswith('R'):\n",
    "            return wn.ADV\n",
    "        else:          \n",
    "            return None\n",
    "\n",
    "    # determine whether a string is comprised of all punctuation-like characters\n",
    "    def is_punct(self, text):\n",
    "        if text in self.punctuation:\n",
    "            return True\n",
    "        if regex.match(r\"[\\p{P}\\p{Mn}\\p{Sk}]+\", text):\n",
    "            return True\n",
    "        return False\n",
    "\n",
    "    # normalize token strings\n",
    "    def normalize_string(self, token):\n",
    "        token = html.unescape(token)\n",
    "        token = token.lower() if self.lower else token\n",
    "        token = token.strip(' _*')  if self.strip else token\n",
    "\n",
    "        if self.remove_diacritics:\n",
    "            token = regex.sub(\"\\p{Mn}\",'',unicodedata.normalize('NFD',token)) \n",
    "\n",
    "        #not is in the stopword list, but n't isn'\n",
    "        if token == \"n't\" and self.stopwords:\n",
    "            token = \"not\"\n",
    "      \n",
    "        return unicodedata.normalize(self.unicode_form,token)\n",
    "\n",
    "    # determine whether a string is comprised completely\n",
    "    # of things that seem like punctuation\n",
    "    def is_punct(self, text):\n",
    "        if text in string.punctuation:\n",
    "            return True\n",
    "        if regex.match(r\"^[\\p{P}\\p{Mn}\\p{Sk}]+$\", text):\n",
    "            return True\n",
    "        return False\n",
    "\n",
    "    # tokenize the document with optional normalization\n",
    "    def tokenize(self, document, all_fields=False):\n",
    "        tokens = []\n",
    "        for sent in sent_tokenize(document):\n",
    "            cleaner_sent = html.unescape(sent)\n",
    "            for token in nltk.pos_tag(self.tokenizer.tokenize(cleaner_sent)):\n",
    "                stem = ''\n",
    "                token_text = self.normalize_string(token[0])\n",
    "                token_pos = token[1]\n",
    "                if self.remove_punct and self.is_punct(token_text):\n",
    "                #if remove_punct and token_text in string.punctuation:\n",
    "                    continue\n",
    "                if self.remove_stop and token_text in self.stopwords:\n",
    "                    continue\n",
    "                if self.stem_tokens or all_fields:\n",
    "                    stem = self.stemmer.stem(token_text)\n",
    "                if self.lemmatize_tokens or all_fields:\n",
    "                    wordnet_tag = self.get_wordnet_tag(token_pos)\n",
    "                    if wordnet_tag is not None:\n",
    "                        lemma = self.lemmatizer.lemmatize(token_text,wordnet_tag)\n",
    "                    else:\n",
    "                        lemma = token_text\n",
    "                if all_fields:\n",
    "                    tokens.append({'token': token_text, 'stem': stem, 'lemma': lemma})\n",
    "                elif self.stem_tokens:\n",
    "                    tokens.append(stem)\n",
    "                elif self.lemmatize_tokens:\n",
    "                    tokens.append(lemma)\n",
    "                else:\n",
    "                    tokens.append(token_text)     \n",
    "        return tokens"
   ]
  },
  {
   "cell_type": "code",
   "execution_count": 5,
   "metadata": {},
   "outputs": [],
   "source": [
    "### This function gives me the tokens, the vocabulary, and the vocabulary for each target\n",
    "vocabulary = {}\n",
    "target_vocabularies = {}\n",
    "def get_token_analysis(preprocessor, tweet_text, target=None):\n",
    "    tokens = preprocessor.tokenize(tweet_text)\n",
    "    for token in tokens:\n",
    "        if token in vocabulary:\n",
    "            vocabulary[token] += 1\n",
    "        else:\n",
    "            vocabulary[token] = 1\n",
    "        if target:\n",
    "            if target in target_vocabularies:\n",
    "                target_dict = target_vocabularies[target]\n",
    "                if token in target_dict:\n",
    "                    target_dict[token] += 1\n",
    "                else:\n",
    "                    target_dict[token] = 1\n",
    "                target_vocabularies[target] = target_dict\n",
    "            else:\n",
    "                target_vocabularies[target] = {token: 1} \n",
    "    return tokens "
   ]
  },
  {
   "cell_type": "code",
   "execution_count": 13,
   "metadata": {},
   "outputs": [],
   "source": [
    "### Call the previous function, initailize the preprocessor, and get the total number of tokens and tweet length\n",
    "INPUT = train[['Review', 'Authenticity']]\n",
    "num_tweets = 0\n",
    "total_tokens = 0\n",
    "review_lengths_in_tokens = []\n",
    "my_preprocessor = Preprocessor(remove_punct=True, remove_stop=False, remove_diacritics=True, lemmatize_tokens=True)\n",
    "all_tokens = []\n",
    "for r in range(INPUT.shape[0]):\n",
    "    row = INPUT.iloc[r]\n",
    "    num_tweets += 1\n",
    "    tokens = get_token_analysis(my_preprocessor, row.Review, row.Authenticity)\n",
    "    all_tokens.append(tokens)\n",
    "    review_lengths_in_tokens.append(len(tokens))\n",
    "    total_tokens += len(tokens)"
   ]
  },
  {
   "cell_type": "markdown",
   "metadata": {},
   "source": [
    "## Vocabulary per Authenticity"
   ]
  },
  {
   "cell_type": "code",
   "execution_count": 17,
   "metadata": {},
   "outputs": [
    {
     "name": "stdout",
     "output_type": "stream",
     "text": [
      "There are 7167 distinct words in the input data.\n"
     ]
    },
    {
     "data": {
      "image/png": "[encoded data removed]",
      "text/plain": [
       "<Figure size 432x288 with 1 Axes>"
      ]
     },
     "metadata": {
      "needs_background": "light"
     },
     "output_type": "display_data"
    }
   ],
   "source": [
    "print(\"There are\", len(vocabulary), 'distinct words in the input data.')\n",
    "\n",
    "height = [len(target_vocabularies[k]) for k in target_vocabularies.keys()]\n",
    "plt.bar(target_vocabularies.keys(), height)\n",
    "plt.xticks(rotation=30, ha='right')\n",
    "plt.xlabel('Targets')\n",
    "plt.ylabel('Vocabulary')\n",
    "plt.title('Vocabulary size for each target')\n",
    "plt.show()"
   ]
  },
  {
   "cell_type": "markdown",
   "metadata": {},
   "source": [
    "## Vocabulary per Stance"
   ]
  },
  {
   "cell_type": "code",
   "execution_count": 21,
   "metadata": {},
   "outputs": [
    {
     "data": {
      "image/png": "[encoded data removed]",
      "text/plain": [
       "<Figure size 432x288 with 1 Axes>"
      ]
     },
     "metadata": {
      "needs_background": "light"
     },
     "output_type": "display_data"
    }
   ],
   "source": [
    "### Call the previous function, initailize the preprocessor, and get the total number of tokens and tweet length\n",
    "INPUT = train[['Review', 'Stance']]\n",
    "num_tweets = 0\n",
    "total_tokens = 0\n",
    "review_lengths_in_tokens = []\n",
    "my_preprocessor = Preprocessor(remove_punct=True, remove_stop=False, remove_diacritics=True, lemmatize_tokens=True)\n",
    "all_tokens = []\n",
    "vocabulary = {}\n",
    "target_vocabularies = {}\n",
    "for r in range(INPUT.shape[0]):\n",
    "    row = INPUT.iloc[r]\n",
    "    num_tweets += 1\n",
    "    tokens = get_token_analysis(my_preprocessor, row.Review, row.Stance)\n",
    "    all_tokens.append(tokens)\n",
    "    review_lengths_in_tokens.append(len(tokens))\n",
    "    total_tokens += len(tokens)\n",
    "\n",
    "height = [len(target_vocabularies[k]) for k in target_vocabularies.keys()]\n",
    "plt.bar(target_vocabularies.keys(), height)\n",
    "plt.xticks(rotation=30, ha='right')\n",
    "plt.xlabel('Targets')\n",
    "plt.ylabel('Vocabulary')\n",
    "plt.title('Vocabulary size for each target')\n",
    "plt.show()"
   ]
  },
  {
   "cell_type": "markdown",
   "metadata": {},
   "source": [
    "## Vocabulary per Authenticity per Stance"
   ]
  },
  {
   "cell_type": "code",
   "execution_count": 25,
   "metadata": {},
   "outputs": [],
   "source": [
    "target = train['Authenticity'].tolist()\n",
    "stance = train['Stance'].tolist()\n",
    "combined_target = []\n",
    "for i, e in enumerate(target):\n",
    "    combined_target.append(e + \"_\" + stance[i])\n",
    "train['combined_target'] = combined_target"
   ]
  },
  {
   "cell_type": "code",
   "execution_count": 39,
   "metadata": {},
   "outputs": [
    {
     "data": {
      "image/png": "[encoded data removed]",
      "text/plain": [
       "<Figure size 432x288 with 1 Axes>"
      ]
     },
     "metadata": {},
     "output_type": "display_data"
    }
   ],
   "source": [
    "### Call the previous function, initailize the preprocessor, and get the total number of tokens and tweet length\n",
    "INPUT = train[['Review', 'combined_target']]\n",
    "num_tweets = 0\n",
    "total_tokens = 0\n",
    "review_lengths_in_tokens = []\n",
    "truthful_negative, deceptive_negative, deceptive_positive, truthful_positive= [], [], [], []\n",
    "my_preprocessor = Preprocessor(remove_punct=True, remove_stop=False, remove_diacritics=True, lemmatize_tokens=True)\n",
    "all_tokens = []\n",
    "vocabulary = {}\n",
    "target_vocabularies = {}\n",
    "for r in range(INPUT.shape[0]):\n",
    "    row = INPUT.iloc[r]\n",
    "    num_tweets += 1\n",
    "    tokens = get_token_analysis(my_preprocessor, row.Review, row.combined_target)\n",
    "    all_tokens.append(tokens)\n",
    "    review_lengths_in_tokens.append(len(tokens))\n",
    "    if row.combined_target == 'truthful_negative':\n",
    "        truthful_negative.append(len(tokens))\n",
    "    elif row.combined_target == 'deceptive_negative':\n",
    "        deceptive_negative.append(len(tokens))\n",
    "    elif row.combined_target == 'deceptive_positive':\n",
    "        deceptive_positive.append(len(tokens))\n",
    "    else:\n",
    "        truthful_positive.append(len(tokens))\n",
    "    total_tokens += len(tokens)\n",
    "\n",
    "height = [len(target_vocabularies[k]) for k in target_vocabularies.keys()]\n",
    "plt.bar(target_vocabularies.keys(), height)\n",
    "plt.xticks(rotation=30, ha='right')\n",
    "plt.xlabel('Targets')\n",
    "plt.ylabel('Vocabulary')\n",
    "plt.title('Vocabulary size for each target')\n",
    "plt.show()"
   ]
  },
  {
   "cell_type": "code",
   "execution_count": 41,
   "metadata": {},
   "outputs": [
    {
     "name": "stdout",
     "output_type": "stream",
     "text": [
      "Average number of words in each review: 73.77265625\n",
      "Standard deviation of number of words in each review: 43.02164102018118 \n",
      "\n"
     ]
    },
    {
     "data": {
      "image/png": "[encoded data removed]",
      "text/plain": [
       "<Figure size 432x288 with 1 Axes>"
      ]
     },
     "metadata": {},
     "output_type": "display_data"
    }
   ],
   "source": [
    "import numpy as np\n",
    "import seaborn as sns\n",
    "import matplotlib.patches as mpatches\n",
    "import warnings\n",
    "warnings.filterwarnings(\"ignore\")\n",
    "\n",
    "label_patches = []\n",
    "\n",
    "print(\"Average number of words in each review:\", np.mean(review_lengths_in_tokens))\n",
    "print(\"Standard deviation of number of words in each review:\", np.std(review_lengths_in_tokens), '\\n')\n",
    "sns.set_style('whitegrid')\n",
    "sns.kdeplot(np.array(truthful_negative), bw=0.5)\n",
    "sns.kdeplot(np.array(deceptive_negative), bw=0.5)\n",
    "sns.kdeplot(np.array(deceptive_positive), bw=0.5)\n",
    "sns.kdeplot(np.array(truthful_positive), bw=0.5)\n",
    "plt.title('Distribution of words in each review')\n",
    "plt.legend(handles=label_patches, loc='upper right')\n",
    "plt.show()\n",
    "    "
   ]
  },
  {
   "cell_type": "code",
   "execution_count": null,
   "metadata": {},
   "outputs": [],
   "source": []
  }
 ],
 "metadata": {
  "kernelspec": {
   "display_name": "anly580",
   "language": "python",
   "name": "anly580"
  },
  "language_info": {
   "codemirror_mode": {
    "name": "ipython",
    "version": 3
   },
   "file_extension": ".py",
   "mimetype": "text/x-python",
   "name": "python",
   "nbconvert_exporter": "python",
   "pygments_lexer": "ipython3",
   "version": "3.8.5"
  }
 },
 "nbformat": 4,
 "nbformat_minor": 2
}
