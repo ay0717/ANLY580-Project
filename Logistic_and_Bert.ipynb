{
 "cells": [
  {
   "cell_type": "markdown",
   "metadata": {},
   "source": [
    "# Data Cleaning"
   ]
  },
  {
   "cell_type": "markdown",
   "metadata": {},
   "source": [
    "## Retrieving reviews"
   ]
  },
  {
   "cell_type": "code",
   "execution_count": 68,
   "metadata": {},
   "outputs": [],
   "source": [
    "import os\n",
    "import pandas as pd\n",
    "import nltk\n",
    "import numpy as np\n",
    "import pandas as pd\n",
    "import regex\n",
    "import string\n",
    "import unicodedata\n",
    "import html\n",
    "from html.parser import HTMLParser\n",
    "import matplotlib.pyplot as plt\n",
    "\n",
    "from nltk import WordNetLemmatizer\n",
    "from nltk import sent_tokenize\n",
    "from nltk import pos_tag\n",
    "from nltk.corpus import wordnet as wn\n",
    "from nltk.corpus import stopwords\n",
    "from nltk.sentiment.util import  mark_negation\n",
    "from nltk.tokenize import TweetTokenizer\n",
    "\n",
    "from sklearn.base import BaseEstimator, TransformerMixin\n",
    "from sklearn.feature_extraction.text import TfidfVectorizer\n",
    "from sklearn.feature_extraction.text import CountVectorizer\n",
    "from sklearn.preprocessing import LabelEncoder\n",
    "from sklearn.linear_model import LogisticRegression\n",
    "from sklearn.naive_bayes import MultinomialNB\n",
    "from sklearn.metrics import classification_report as clsr\n",
    "from sklearn.metrics import confusion_matrix, cohen_kappa_score\n",
    "from sklearn.metrics import accuracy_score, precision_score, recall_score, f1_score\n",
    "from sklearn.model_selection import train_test_split\n",
    "\n",
    "import torch\n",
    "from torch.utils.data import TensorDataset, DataLoader, RandomSampler, SequentialSampler\n",
    "from torchtext import data\n",
    "from transformers import BertForSequenceClassification, AdamW, BertConfig\n",
    "from transformers import BertTokenizer\n",
    "from keras.preprocessing.sequence import pad_sequences"
   ]
  },
  {
   "cell_type": "code",
   "execution_count": 8,
   "metadata": {},
   "outputs": [],
   "source": [
    "hotel_reviews=pd.DataFrame()\n",
    "for stance in os.listdir('./op_spam_v1.4'):\n",
    "    negative_path=os.listdir('./op_spam_v1.4/'+stance)\n",
    "    for val in negative_path:\n",
    "        for i in range(1,6):\n",
    "            next_path='./op_spam_v1.4/'+stance+'/'+val+'/'+'fold'+str(i)\n",
    "            file_names=os.listdir(next_path)\n",
    "            content=[]\n",
    "            hotel_name=[]\n",
    "            for name in file_names:\n",
    "                full_path=next_path+'/'+name\n",
    "                next_name=name.split('_')[1]\n",
    "                hotel_name.append(next_name)\n",
    "                with open (full_path,'r') as myfile:\n",
    "                    content.append(myfile.read())\n",
    "            file_amount=len(file_names)\n",
    "            val_label=file_amount*[val.split('_')[0]]\n",
    "            stance_label=file_amount*[stance.split('_')[0]]\n",
    "            resource=[val.split('_')[2]]*file_amount\n",
    "            next_dict={'Resource':resource,'Hotel':hotel_name,'Review':content,'Stance':stance_label,'Authenticity':val_label}\n",
    "            next_df=pd.DataFrame(next_dict)\n",
    "            hotel_reviews=pd.concat([hotel_reviews,next_df],axis=0)\n",
    "    \n",
    "                        "
   ]
  },
  {
   "cell_type": "code",
   "execution_count": 9,
   "metadata": {
    "scrolled": true
   },
   "outputs": [
    {
     "data": {
      "text/html": [
       "<div>\n",
       "<style scoped>\n",
       "    .dataframe tbody tr th:only-of-type {\n",
       "        vertical-align: middle;\n",
       "    }\n",
       "\n",
       "    .dataframe tbody tr th {\n",
       "        vertical-align: top;\n",
       "    }\n",
       "\n",
       "    .dataframe thead th {\n",
       "        text-align: right;\n",
       "    }\n",
       "</style>\n",
       "<table border=\"1\" class=\"dataframe\">\n",
       "  <thead>\n",
       "    <tr style=\"text-align: right;\">\n",
       "      <th></th>\n",
       "      <th>Resource</th>\n",
       "      <th>Hotel</th>\n",
       "      <th>Review</th>\n",
       "      <th>Stance</th>\n",
       "      <th>Authenticity</th>\n",
       "    </tr>\n",
       "  </thead>\n",
       "  <tbody>\n",
       "    <tr>\n",
       "      <th>0</th>\n",
       "      <td>MTurk</td>\n",
       "      <td>hilton</td>\n",
       "      <td>We stayed at the Schicago Hilton for 4 days an...</td>\n",
       "      <td>negative</td>\n",
       "      <td>deceptive</td>\n",
       "    </tr>\n",
       "    <tr>\n",
       "      <th>1</th>\n",
       "      <td>MTurk</td>\n",
       "      <td>hilton</td>\n",
       "      <td>Hotel is located 1/2 mile from the train stati...</td>\n",
       "      <td>negative</td>\n",
       "      <td>deceptive</td>\n",
       "    </tr>\n",
       "    <tr>\n",
       "      <th>2</th>\n",
       "      <td>MTurk</td>\n",
       "      <td>hilton</td>\n",
       "      <td>I made my reservation at the Hilton Chicago be...</td>\n",
       "      <td>negative</td>\n",
       "      <td>deceptive</td>\n",
       "    </tr>\n",
       "    <tr>\n",
       "      <th>3</th>\n",
       "      <td>MTurk</td>\n",
       "      <td>hilton</td>\n",
       "      <td>When most people think Hilton, they think luxu...</td>\n",
       "      <td>negative</td>\n",
       "      <td>deceptive</td>\n",
       "    </tr>\n",
       "    <tr>\n",
       "      <th>4</th>\n",
       "      <td>MTurk</td>\n",
       "      <td>hilton</td>\n",
       "      <td>My husband and I recently stayed stayed at the...</td>\n",
       "      <td>negative</td>\n",
       "      <td>deceptive</td>\n",
       "    </tr>\n",
       "  </tbody>\n",
       "</table>\n",
       "</div>"
      ],
      "text/plain": [
       "  Resource   Hotel                                             Review  \\\n",
       "0    MTurk  hilton  We stayed at the Schicago Hilton for 4 days an...   \n",
       "1    MTurk  hilton  Hotel is located 1/2 mile from the train stati...   \n",
       "2    MTurk  hilton  I made my reservation at the Hilton Chicago be...   \n",
       "3    MTurk  hilton  When most people think Hilton, they think luxu...   \n",
       "4    MTurk  hilton  My husband and I recently stayed stayed at the...   \n",
       "\n",
       "     Stance Authenticity  \n",
       "0  negative    deceptive  \n",
       "1  negative    deceptive  \n",
       "2  negative    deceptive  \n",
       "3  negative    deceptive  \n",
       "4  negative    deceptive  "
      ]
     },
     "execution_count": 9,
     "metadata": {},
     "output_type": "execute_result"
    }
   ],
   "source": [
    "hotel_reviews.head()"
   ]
  },
  {
   "cell_type": "markdown",
   "metadata": {},
   "source": [
    "Now we have the row dataframe that we wanted, with those attributes(hotel name, sentiment polarity, resource, review and a label(authenticity))! We can move the next step which is cleaning and tokenizing data."
   ]
  },
  {
   "cell_type": "markdown",
   "metadata": {},
   "source": [
    "## Cleaning and Tokenizing"
   ]
  },
  {
   "cell_type": "markdown",
   "metadata": {},
   "source": [
    "We need to build a preprocessor first tokenize the reviews."
   ]
  },
  {
   "cell_type": "code",
   "execution_count": 7,
   "metadata": {},
   "outputs": [],
   "source": [
    "class Preprocessor(BaseEstimator, TransformerMixin):\n",
    "\n",
    "\n",
    "    def __init__(self, lower=True, strip=True, remove_punct=True, remove_diacritics=True, unicode_form='NFC', remove_stop=False, stem_tokens=False, lemmatize_tokens=True, language='english'):\n",
    "        \n",
    "        self.lower      = lower\n",
    "        self.strip      = strip\n",
    "        self.remove_punct = remove_punct\n",
    "        self.remove_diacritics = remove_diacritics\n",
    "        self.set_unicode_form(unicode_form)\n",
    "     \n",
    "        self.remove_stop = remove_stop\n",
    "        self.stem_tokens = stem_tokens\n",
    "        self.lemmatize_tokens = lemmatize_tokens    \n",
    "\n",
    "        self.stopwords  = set(nltk.corpus.stopwords.words(language))\n",
    "        self.punct      = set(string.punctuation)\n",
    "\n",
    "        self.lemmatizer = WordNetLemmatizer()\n",
    "        self.stemmer = nltk.stem.SnowballStemmer(language) \n",
    "        self.tokenizer = TweetTokenizer()\n",
    "\n",
    " \n",
    "    def transform(self, X):\n",
    "        return [\n",
    "            list(self.tokenize(doc)) for doc in X\n",
    "        ]\n",
    "\n",
    "    def inverse_transform(self, X):\n",
    "        return [\" \".join(doc) for doc in X]\n",
    "\n",
    "\n",
    "    def fit(self, X, y=None):\n",
    "        return self\n",
    "\n",
    " \n",
    "    def set_stopwords(self, stopwords):\n",
    "        self.stopwords  = stopwords or set(nltk.corpus.stopwords.words('english'))\n",
    "\n",
    "\n",
    "    def set_punct(self, punct):\n",
    "        self.punct      = punct or set(string.punctuation)\n",
    "\n",
    "\n",
    "    def set_unicode_form(self, unicode_form):\n",
    "        self.unicode_form = unicode_form.strip().upper()\n",
    "        if not self.unicode_form in ['NFC','NFD','NFKC','NFKD']:\n",
    "            self.unicode_form = 'NFC'\n",
    "\n",
    "\n",
    "    def show_settings(self):\n",
    "        print(\"lower: \",self.lower)\n",
    "        print(\"strip: \",self.strip)\n",
    "        print(\"remove_punct: \",self.remove_punct)\n",
    "        print(\"remove_diacritics: \",self.remove_diacritics)\n",
    "        print(\"unicode_form: \",self.unicode_form)\n",
    "        print(\"remove_stop: \",self.remove_stop)\n",
    "        print(\"stem_tokens: \",self.stem_tokens)\n",
    "        print(\"lemmatize_tokens\",self.lemmatize_tokens)       \n",
    "        print(\"lemmatizer: \",type(self.lemmatizer).__name__)\n",
    "        print(\"stemmer: \",type(self.stemmer).__name__) \n",
    "        print(\"punctuation: \",self.punct)\n",
    "        print(\"stopwords: \",self.stopwords)\n",
    "\n",
    "\n",
    "    # convert nltk pos-tag to wordnet pos-tag\n",
    "    # for use by the wordnet lemmatizer\n",
    "    @staticmethod\n",
    "    def get_wordnet_tag(nltk_tag):\n",
    "        if nltk_tag.startswith('N'):\n",
    "            return wn.NOUN\n",
    "        elif nltk_tag.startswith('V'):\n",
    "            return wn.VERB\n",
    "        elif nltk_tag.startswith('J'):\n",
    "            return wn.ADJ\n",
    "        elif nltk_tag.startswith('R'):\n",
    "            return wn.ADV\n",
    "        else:          \n",
    "            return None\n",
    "\n",
    "    # determine whether a string is comprised of all punctuation-like characters\n",
    "    def is_punct(self, text):\n",
    "        if text in self.punctuation:\n",
    "            return True\n",
    "        if regex.match(r\"[\\p{P}\\p{Mn}\\p{Sk}]+\", text):\n",
    "            return True\n",
    "        return False\n",
    "\n",
    "\n",
    "    # normalize token strings\n",
    "    def normalize_string(self, token):\n",
    "\n",
    "        token = html.unescape(token)\n",
    "        token = token.lower() if self.lower else token\n",
    "        token = token.strip(' _*')  if self.strip else token\n",
    "\n",
    "        if self.remove_diacritics:\n",
    "            token = regex.sub(\"\\p{Mn}\",'',unicodedata.normalize('NFD',token)) \n",
    "\n",
    "        #not is in the stopword list, but n't isn'\n",
    "        if token == \"n't\" and self.stopwords:\n",
    "            token = \"not\"\n",
    "      \n",
    "        return unicodedata.normalize(self.unicode_form,token)\n",
    "\n",
    "    # determine whether a string is comprised completely\n",
    "    # of things that seem like punctuation\n",
    "    def is_punct(self, text):\n",
    "        if text in string.punctuation:\n",
    "            return True\n",
    "        if regex.match(r\"^[\\p{P}\\p{Mn}\\p{Sk}]+$\", text):\n",
    "            return True\n",
    "        return False\n",
    "\n",
    "    # tokenize the document with optional normalization\n",
    "    def tokenize(self, document, all_fields=False):\n",
    "        tokens = []\n",
    "        for sent in sent_tokenize(document):\n",
    "            cleaner_sent = html.unescape(sent)\n",
    "            for token in nltk.pos_tag(self.tokenizer.tokenize(cleaner_sent)):\n",
    "                stem = ''\n",
    "                token_text = self.normalize_string(token[0])\n",
    "                token_pos = token[1]\n",
    "                if self.remove_punct and self.is_punct(token_text):\n",
    "                #if remove_punct and token_text in string.punctuation:\n",
    "                    continue\n",
    "                if self.remove_stop and token_text in self.stopwords:\n",
    "                    continue\n",
    "                if self.stem_tokens or all_fields:\n",
    "                    stem = self.stemmer.stem(token_text)\n",
    "                if self.lemmatize_tokens or all_fields:\n",
    "                    wordnet_tag = self.get_wordnet_tag(token_pos)\n",
    "                    if wordnet_tag is not None:\n",
    "                        lemma = self.lemmatizer.lemmatize(token_text,wordnet_tag)\n",
    "                    else:\n",
    "                        lemma = token_text\n",
    "                if all_fields:\n",
    "                    tokens.append({'token': token_text, 'stem': stem, 'lemma': lemma})\n",
    "                elif self.stem_tokens:\n",
    "                    tokens.append(stem)\n",
    "                elif self.lemmatize_tokens:\n",
    "                    tokens.append(lemma)\n",
    "                else:\n",
    "                    tokens.append(token_text)     \n",
    "        return tokens"
   ]
  },
  {
   "cell_type": "markdown",
   "metadata": {},
   "source": [
    "Now we will use the preprocessor to tokenize the reviews"
   ]
  },
  {
   "cell_type": "code",
   "execution_count": 17,
   "metadata": {},
   "outputs": [
    {
     "data": {
      "text/html": [
       "<div>\n",
       "<style scoped>\n",
       "    .dataframe tbody tr th:only-of-type {\n",
       "        vertical-align: middle;\n",
       "    }\n",
       "\n",
       "    .dataframe tbody tr th {\n",
       "        vertical-align: top;\n",
       "    }\n",
       "\n",
       "    .dataframe thead th {\n",
       "        text-align: right;\n",
       "    }\n",
       "</style>\n",
       "<table border=\"1\" class=\"dataframe\">\n",
       "  <thead>\n",
       "    <tr style=\"text-align: right;\">\n",
       "      <th></th>\n",
       "      <th>Resource</th>\n",
       "      <th>Hotel</th>\n",
       "      <th>Review</th>\n",
       "      <th>Stance</th>\n",
       "      <th>Authenticity</th>\n",
       "    </tr>\n",
       "  </thead>\n",
       "  <tbody>\n",
       "    <tr>\n",
       "      <th>0</th>\n",
       "      <td>MTurk</td>\n",
       "      <td>hilton</td>\n",
       "      <td>[stay, schicago, hilton, 4, day, 3, night, con...</td>\n",
       "      <td>negative</td>\n",
       "      <td>deceptive</td>\n",
       "    </tr>\n",
       "    <tr>\n",
       "      <th>1</th>\n",
       "      <td>MTurk</td>\n",
       "      <td>hilton</td>\n",
       "      <td>[hotel, locate, 1/2, mile, train, station, qui...</td>\n",
       "      <td>negative</td>\n",
       "      <td>deceptive</td>\n",
       "    </tr>\n",
       "    <tr>\n",
       "      <th>2</th>\n",
       "      <td>MTurk</td>\n",
       "      <td>hilton</td>\n",
       "      <td>[make, reservation, hilton, chicago, believe, ...</td>\n",
       "      <td>negative</td>\n",
       "      <td>deceptive</td>\n",
       "    </tr>\n",
       "    <tr>\n",
       "      <th>3</th>\n",
       "      <td>MTurk</td>\n",
       "      <td>hilton</td>\n",
       "      <td>[people, think, hilton, think, luxury, know, w...</td>\n",
       "      <td>negative</td>\n",
       "      <td>deceptive</td>\n",
       "    </tr>\n",
       "    <tr>\n",
       "      <th>4</th>\n",
       "      <td>MTurk</td>\n",
       "      <td>hilton</td>\n",
       "      <td>[husband, recently, stay, stay, hilton, chicag...</td>\n",
       "      <td>negative</td>\n",
       "      <td>deceptive</td>\n",
       "    </tr>\n",
       "  </tbody>\n",
       "</table>\n",
       "</div>"
      ],
      "text/plain": [
       "  Resource   Hotel                                             Review  \\\n",
       "0    MTurk  hilton  [stay, schicago, hilton, 4, day, 3, night, con...   \n",
       "1    MTurk  hilton  [hotel, locate, 1/2, mile, train, station, qui...   \n",
       "2    MTurk  hilton  [make, reservation, hilton, chicago, believe, ...   \n",
       "3    MTurk  hilton  [people, think, hilton, think, luxury, know, w...   \n",
       "4    MTurk  hilton  [husband, recently, stay, stay, hilton, chicag...   \n",
       "\n",
       "     Stance Authenticity  \n",
       "0  negative    deceptive  \n",
       "1  negative    deceptive  \n",
       "2  negative    deceptive  \n",
       "3  negative    deceptive  \n",
       "4  negative    deceptive  "
      ]
     },
     "execution_count": 17,
     "metadata": {},
     "output_type": "execute_result"
    }
   ],
   "source": [
    "my_preprocessor = Preprocessor(remove_punct=True, remove_stop=True, lemmatize_tokens=True)\n",
    "hotel_reviews['Review']=hotel_reviews['Review'].apply(my_preprocessor.tokenize)\n",
    "hotel_reviews.head()"
   ]
  },
  {
   "cell_type": "markdown",
   "metadata": {},
   "source": [
    "Let's check the data type of the columns in this dataframe"
   ]
  },
  {
   "cell_type": "code",
   "execution_count": 18,
   "metadata": {},
   "outputs": [
    {
     "data": {
      "text/plain": [
       "Resource        object\n",
       "Hotel           object\n",
       "Review          object\n",
       "Stance          object\n",
       "Authenticity    object\n",
       "dtype: object"
      ]
     },
     "execution_count": 18,
     "metadata": {},
     "output_type": "execute_result"
    }
   ],
   "source": [
    "hotel_reviews.dtypes"
   ]
  },
  {
   "cell_type": "markdown",
   "metadata": {},
   "source": [
    "We need to change our label to category type"
   ]
  },
  {
   "cell_type": "code",
   "execution_count": 19,
   "metadata": {},
   "outputs": [],
   "source": [
    "hotel_reviews['Authenticity']=hotel_reviews['Authenticity'].astype('category')"
   ]
  },
  {
   "cell_type": "markdown",
   "metadata": {},
   "source": [
    "Before we split the dataframe into train and test data, I will save it to a csv file firstly."
   ]
  },
  {
   "cell_type": "code",
   "execution_count": 22,
   "metadata": {},
   "outputs": [],
   "source": [
    "hotel_reviews.to_csv('Hotel_reviews.csv',header=True,index=False)"
   ]
  },
  {
   "cell_type": "markdown",
   "metadata": {},
   "source": [
    "## Prepare training and test data"
   ]
  },
  {
   "cell_type": "code",
   "execution_count": 55,
   "metadata": {},
   "outputs": [],
   "source": [
    "hotel_reviews = pd.read_csv('Hotel_reviews.csv')"
   ]
  },
  {
   "cell_type": "code",
   "execution_count": 56,
   "metadata": {},
   "outputs": [
    {
     "data": {
      "text/html": [
       "<div>\n",
       "<style scoped>\n",
       "    .dataframe tbody tr th:only-of-type {\n",
       "        vertical-align: middle;\n",
       "    }\n",
       "\n",
       "    .dataframe tbody tr th {\n",
       "        vertical-align: top;\n",
       "    }\n",
       "\n",
       "    .dataframe thead th {\n",
       "        text-align: right;\n",
       "    }\n",
       "</style>\n",
       "<table border=\"1\" class=\"dataframe\">\n",
       "  <thead>\n",
       "    <tr style=\"text-align: right;\">\n",
       "      <th></th>\n",
       "      <th>Resource</th>\n",
       "      <th>Hotel</th>\n",
       "      <th>Review</th>\n",
       "      <th>Stance</th>\n",
       "      <th>Authenticity</th>\n",
       "    </tr>\n",
       "  </thead>\n",
       "  <tbody>\n",
       "    <tr>\n",
       "      <th>0</th>\n",
       "      <td>MTurk</td>\n",
       "      <td>hilton</td>\n",
       "      <td>['stay', 'schicago', 'hilton', '4', 'day', '3'...</td>\n",
       "      <td>negative</td>\n",
       "      <td>deceptive</td>\n",
       "    </tr>\n",
       "    <tr>\n",
       "      <th>1</th>\n",
       "      <td>MTurk</td>\n",
       "      <td>hilton</td>\n",
       "      <td>['hotel', 'locate', '1/2', 'mile', 'train', 's...</td>\n",
       "      <td>negative</td>\n",
       "      <td>deceptive</td>\n",
       "    </tr>\n",
       "    <tr>\n",
       "      <th>2</th>\n",
       "      <td>MTurk</td>\n",
       "      <td>hilton</td>\n",
       "      <td>['make', 'reservation', 'hilton', 'chicago', '...</td>\n",
       "      <td>negative</td>\n",
       "      <td>deceptive</td>\n",
       "    </tr>\n",
       "    <tr>\n",
       "      <th>3</th>\n",
       "      <td>MTurk</td>\n",
       "      <td>hilton</td>\n",
       "      <td>['people', 'think', 'hilton', 'think', 'luxury...</td>\n",
       "      <td>negative</td>\n",
       "      <td>deceptive</td>\n",
       "    </tr>\n",
       "    <tr>\n",
       "      <th>4</th>\n",
       "      <td>MTurk</td>\n",
       "      <td>hilton</td>\n",
       "      <td>['husband', 'recently', 'stay', 'stay', 'hilto...</td>\n",
       "      <td>negative</td>\n",
       "      <td>deceptive</td>\n",
       "    </tr>\n",
       "  </tbody>\n",
       "</table>\n",
       "</div>"
      ],
      "text/plain": [
       "  Resource   Hotel                                             Review  \\\n",
       "0    MTurk  hilton  ['stay', 'schicago', 'hilton', '4', 'day', '3'...   \n",
       "1    MTurk  hilton  ['hotel', 'locate', '1/2', 'mile', 'train', 's...   \n",
       "2    MTurk  hilton  ['make', 'reservation', 'hilton', 'chicago', '...   \n",
       "3    MTurk  hilton  ['people', 'think', 'hilton', 'think', 'luxury...   \n",
       "4    MTurk  hilton  ['husband', 'recently', 'stay', 'stay', 'hilto...   \n",
       "\n",
       "     Stance Authenticity  \n",
       "0  negative    deceptive  \n",
       "1  negative    deceptive  \n",
       "2  negative    deceptive  \n",
       "3  negative    deceptive  \n",
       "4  negative    deceptive  "
      ]
     },
     "execution_count": 56,
     "metadata": {},
     "output_type": "execute_result"
    }
   ],
   "source": [
    "hotel_reviews.head()"
   ]
  },
  {
   "cell_type": "code",
   "execution_count": 57,
   "metadata": {},
   "outputs": [],
   "source": [
    "hotel_reviews['Review'] = hotel_reviews['Review'].apply(lambda x: ' '.join(eval(x)))"
   ]
  },
  {
   "cell_type": "code",
   "execution_count": 165,
   "metadata": {},
   "outputs": [],
   "source": [
    "texts=hotel_reviews['Review']\n",
    "labels=hotel_reviews['Authenticity']\n"
   ]
  },
  {
   "cell_type": "markdown",
   "metadata": {},
   "source": [
    "# Logistic Regression"
   ]
  },
  {
   "cell_type": "code",
   "execution_count": 166,
   "metadata": {},
   "outputs": [],
   "source": [
    "train_texts, test_texts, train_labels, test_labels \\\n",
    "    = train_test_split(texts, labels, test_size=0.2, random_state=42)"
   ]
  },
  {
   "cell_type": "code",
   "execution_count": 167,
   "metadata": {},
   "outputs": [],
   "source": [
    "tfidf_vectorizer = TfidfVectorizer()"
   ]
  },
  {
   "cell_type": "code",
   "execution_count": 168,
   "metadata": {},
   "outputs": [],
   "source": [
    "train_tfidf_sparse_matrix = tfidf_vectorizer.fit_transform(train_texts)\n",
    "test_tfidf_sparse_matrix = tfidf_vectorizer.transform(test_texts)"
   ]
  },
  {
   "cell_type": "code",
   "execution_count": 169,
   "metadata": {},
   "outputs": [],
   "source": [
    "clf = LogisticRegression(random_state=0, max_iter=1000).fit(train_tfidf_sparse_matrix, train_labels)"
   ]
  },
  {
   "cell_type": "code",
   "execution_count": 170,
   "metadata": {},
   "outputs": [],
   "source": [
    "pred_test_labels = clf.predict(test_tfidf_sparse_matrix)"
   ]
  },
  {
   "cell_type": "code",
   "execution_count": 171,
   "metadata": {},
   "outputs": [
    {
     "name": "stdout",
     "output_type": "stream",
     "text": [
      "Accuracy: 0.865625\n",
      "Precision: 0.8671131128758247\n",
      "Recall: 0.8638784461152882\n",
      "Macro F1: 0.8647998034880864\n"
     ]
    }
   ],
   "source": [
    "print(\"Accuracy:\", accuracy_score(test_labels, pred_test_labels))\n",
    "print(\"Precision:\", precision_score(test_labels, pred_test_labels, average=\"macro\"))\n",
    "print(\"Recall:\", recall_score(test_labels, pred_test_labels, average=\"macro\"))\n",
    "print(\"Macro F1:\", f1_score(test_labels, pred_test_labels, average=\"macro\"))"
   ]
  },
  {
   "cell_type": "code",
   "execution_count": 172,
   "metadata": {},
   "outputs": [],
   "source": [
    "from sklearn.metrics import confusion_matrix, cohen_kappa_score"
   ]
  },
  {
   "cell_type": "code",
   "execution_count": 173,
   "metadata": {},
   "outputs": [],
   "source": [
    "from sklearn.metrics import plot_confusion_matrix"
   ]
  },
  {
   "cell_type": "code",
   "execution_count": 174,
   "metadata": {},
   "outputs": [],
   "source": [
    "def plot_confusion_matrix(cm, classes,\n",
    "                          normalize=False,\n",
    "                          title='Confusion matrix',\n",
    "                          cmap=plt.cm.Blues):\n",
    "    \"\"\"\n",
    "    This function prints and plots the confusion matrix.\n",
    "    Normalization can be applied by setting `normalize=True`.\n",
    "    \"\"\"\n",
    "    import itertools\n",
    "    if normalize:\n",
    "        cm = cm.astype('float') / cm.sum(axis=1)[:, np.newaxis]\n",
    "        print(\"Normalized confusion matrix\")\n",
    "    else:\n",
    "        print('Confusion matrix, without normalization')\n",
    "\n",
    "    print(cm)\n",
    "\n",
    "    plt.imshow(cm, interpolation='nearest', cmap=cmap)\n",
    "    plt.title(title)\n",
    "    plt.colorbar()\n",
    "    tick_marks = np.arange(len(classes))\n",
    "    plt.xticks(tick_marks, classes, rotation=45)\n",
    "    plt.yticks(tick_marks, classes)\n",
    "\n",
    "    fmt = '.2f' if normalize else 'd'\n",
    "    thresh = cm.max() / 2.\n",
    "    for i, j in itertools.product(range(cm.shape[0]), range(cm.shape[1])):\n",
    "        plt.text(j, i, format(cm[i, j], fmt),\n",
    "                 horizontalalignment=\"center\",\n",
    "                 color=\"white\" if cm[i, j] > thresh else \"black\")\n",
    "\n",
    "    plt.ylabel('Actual')\n",
    "    plt.xlabel('Predicted')\n",
    "    plt.tight_layout()"
   ]
  },
  {
   "cell_type": "code",
   "execution_count": 175,
   "metadata": {},
   "outputs": [],
   "source": [
    "cnf_matrix = confusion_matrix(test_labels, pred_test_labels, labels=['deceptive', 'truthful'])"
   ]
  },
  {
   "cell_type": "code",
   "execution_count": 176,
   "metadata": {},
   "outputs": [
    {
     "name": "stdout",
     "output_type": "stream",
     "text": [
      "Confusion matrix, without normalization\n",
      "[[151  17]\n",
      " [ 26 126]]\n"
     ]
    },
    {
     "data": {
      "image/png": "[encoded data removed]",
      "text/plain": [
       "<Figure size 432x288 with 2 Axes>"
      ]
     },
     "metadata": {
      "needs_background": "light"
     },
     "output_type": "display_data"
    }
   ],
   "source": [
    "\n",
    "plt.grid(False)\n",
    "plot_confusion_matrix(cnf_matrix, classes=['deceptive', 'truthful'], \n",
    "                      title='Logistic Regression Classifier: \\nConfusion matrix for Deceptive Opinion Spam Detection')"
   ]
  },
  {
   "cell_type": "code",
   "execution_count": 181,
   "metadata": {},
   "outputs": [],
   "source": [
    "test_labels_int = list(map(lambda x: label_to_index[x], test_labels.tolist()))\n",
    "pred_test_labels_int = list(map(lambda x: label_to_index[x], pred_test_labels))"
   ]
  },
  {
   "cell_type": "code",
   "execution_count": 182,
   "metadata": {},
   "outputs": [
    {
     "name": "stdout",
     "output_type": "stream",
     "text": [
      "              precision    recall  f1-score   support\n",
      "\n",
      "   deceptive       0.85      0.90      0.88       168\n",
      "    truthful       0.88      0.83      0.85       152\n",
      "\n",
      "    accuracy                           0.87       320\n",
      "   macro avg       0.87      0.86      0.86       320\n",
      "weighted avg       0.87      0.87      0.87       320\n",
      "\n"
     ]
    }
   ],
   "source": [
    "from sklearn.metrics import classification_report as clsr\n",
    "print(clsr(test_labels_int, pred_test_labels_int, target_names=['deceptive', 'truthful']))"
   ]
  },
  {
   "cell_type": "markdown",
   "metadata": {},
   "source": [
    "We used another supervised learning model logistic regression to classify authenticity. For logistic regression model, we take the processed textual data and transform to TF-IDF vectors as the input data. The model achieved an accuracy of 86.6%, precision of 86.7%, recall of 86.4%, and f1 score of 86.4%. "
   ]
  },
  {
   "cell_type": "markdown",
   "metadata": {},
   "source": [
    "# Bert"
   ]
  },
  {
   "cell_type": "code",
   "execution_count": 112,
   "metadata": {},
   "outputs": [],
   "source": [
    "texts=hotel_reviews['Review']\n",
    "labels=hotel_reviews['Authenticity']"
   ]
  },
  {
   "cell_type": "code",
   "execution_count": 113,
   "metadata": {},
   "outputs": [],
   "source": [
    "label_to_index = {}\n",
    "index_to_label = {}\n",
    "label_lst = list(set(labels))\n",
    "for i in range(len(label_lst)):\n",
    "    label = label_lst[i]\n",
    "    label_to_index[label] = i\n",
    "    index_to_label[i] = label"
   ]
  },
  {
   "cell_type": "code",
   "execution_count": 116,
   "metadata": {},
   "outputs": [],
   "source": [
    "tokenizer = BertTokenizer.from_pretrained('bert-base-uncased')"
   ]
  },
  {
   "cell_type": "code",
   "execution_count": 117,
   "metadata": {},
   "outputs": [],
   "source": [
    "input_ids = []\n",
    "for text in texts:\n",
    "    encoded_sent = tokenizer.encode(text,\n",
    "                                    add_special_tokens=True, \n",
    "                                    max_length=128,\n",
    "                                    truncation=True)\n",
    "    input_ids.append(encoded_sent)"
   ]
  },
  {
   "cell_type": "code",
   "execution_count": 118,
   "metadata": {},
   "outputs": [
    {
     "name": "stdout",
     "output_type": "stream",
     "text": [
      "Max sentence length:  128\n"
     ]
    }
   ],
   "source": [
    "print('Max sentence length: ', max([len(sent) for sent in input_ids]))"
   ]
  },
  {
   "cell_type": "code",
   "execution_count": 119,
   "metadata": {},
   "outputs": [],
   "source": [
    "input_ids = pad_sequences(input_ids, maxlen=128, dtype=\"long\", \n",
    "                          value=0, truncating=\"post\", padding=\"post\")"
   ]
  },
  {
   "cell_type": "code",
   "execution_count": 120,
   "metadata": {},
   "outputs": [],
   "source": [
    "attention_masks = []\n",
    "for sent in input_ids:\n",
    "    att_mask = [int(token_id > 0) for token_id in sent]\n",
    "    attention_masks.append(att_mask)"
   ]
  },
  {
   "cell_type": "code",
   "execution_count": 121,
   "metadata": {},
   "outputs": [],
   "source": [
    "labels = [label_to_index[label] for label in labels]"
   ]
  },
  {
   "cell_type": "code",
   "execution_count": 122,
   "metadata": {},
   "outputs": [],
   "source": [
    "train_input_ids, test_input_ids, train_labels, test_labels \\\n",
    "    = train_test_split(input_ids, labels, test_size=0.2, random_state=42)\n",
    "\n",
    "train_attention_masks, test_attention_masks, train_labels, test_labels \\\n",
    "    = train_test_split(attention_masks, labels, test_size=0.2, random_state=42)"
   ]
  },
  {
   "cell_type": "code",
   "execution_count": 123,
   "metadata": {},
   "outputs": [],
   "source": [
    "train_input_ids = torch.tensor(train_input_ids)\n",
    "test_input_ids = torch.tensor(test_input_ids)\n",
    "\n",
    "train_labels = torch.tensor(train_labels)\n",
    "test_labels = torch.tensor(test_labels)\n",
    "\n",
    "train_attention_masks = torch.tensor(train_attention_masks)\n",
    "test_attention_masks = torch.tensor(test_attention_masks)"
   ]
  },
  {
   "cell_type": "code",
   "execution_count": 124,
   "metadata": {},
   "outputs": [],
   "source": [
    "batch_size = 32\n",
    "# Create the DataLoader for our training set.\n",
    "train_data = TensorDataset(train_input_ids, train_attention_masks, train_labels)\n",
    "train_sampler = RandomSampler(train_data)\n",
    "train_dataloader = DataLoader(train_data, sampler=train_sampler, batch_size=batch_size)\n",
    "\n",
    "# Create the DataLoader for our test set.\n",
    "test_data = TensorDataset(test_input_ids, test_attention_masks, test_labels)\n",
    "test_sampler = SequentialSampler(test_data)\n",
    "test_dataloader = DataLoader(test_data, sampler=test_sampler, batch_size=batch_size)"
   ]
  },
  {
   "cell_type": "code",
   "execution_count": 149,
   "metadata": {},
   "outputs": [
    {
     "data": {
      "text/plain": [
       "BertForSequenceClassification(\n",
       "  (bert): BertModel(\n",
       "    (embeddings): BertEmbeddings(\n",
       "      (word_embeddings): Embedding(30522, 768, padding_idx=0)\n",
       "      (position_embeddings): Embedding(512, 768)\n",
       "      (token_type_embeddings): Embedding(2, 768)\n",
       "      (LayerNorm): LayerNorm((768,), eps=1e-12, elementwise_affine=True)\n",
       "      (dropout): Dropout(p=0.1, inplace=False)\n",
       "    )\n",
       "    (encoder): BertEncoder(\n",
       "      (layer): ModuleList(\n",
       "        (0): BertLayer(\n",
       "          (attention): BertAttention(\n",
       "            (self): BertSelfAttention(\n",
       "              (query): Linear(in_features=768, out_features=768, bias=True)\n",
       "              (key): Linear(in_features=768, out_features=768, bias=True)\n",
       "              (value): Linear(in_features=768, out_features=768, bias=True)\n",
       "              (dropout): Dropout(p=0.1, inplace=False)\n",
       "            )\n",
       "            (output): BertSelfOutput(\n",
       "              (dense): Linear(in_features=768, out_features=768, bias=True)\n",
       "              (LayerNorm): LayerNorm((768,), eps=1e-12, elementwise_affine=True)\n",
       "              (dropout): Dropout(p=0.1, inplace=False)\n",
       "            )\n",
       "          )\n",
       "          (intermediate): BertIntermediate(\n",
       "            (dense): Linear(in_features=768, out_features=3072, bias=True)\n",
       "          )\n",
       "          (output): BertOutput(\n",
       "            (dense): Linear(in_features=3072, out_features=768, bias=True)\n",
       "            (LayerNorm): LayerNorm((768,), eps=1e-12, elementwise_affine=True)\n",
       "            (dropout): Dropout(p=0.1, inplace=False)\n",
       "          )\n",
       "        )\n",
       "        (1): BertLayer(\n",
       "          (attention): BertAttention(\n",
       "            (self): BertSelfAttention(\n",
       "              (query): Linear(in_features=768, out_features=768, bias=True)\n",
       "              (key): Linear(in_features=768, out_features=768, bias=True)\n",
       "              (value): Linear(in_features=768, out_features=768, bias=True)\n",
       "              (dropout): Dropout(p=0.1, inplace=False)\n",
       "            )\n",
       "            (output): BertSelfOutput(\n",
       "              (dense): Linear(in_features=768, out_features=768, bias=True)\n",
       "              (LayerNorm): LayerNorm((768,), eps=1e-12, elementwise_affine=True)\n",
       "              (dropout): Dropout(p=0.1, inplace=False)\n",
       "            )\n",
       "          )\n",
       "          (intermediate): BertIntermediate(\n",
       "            (dense): Linear(in_features=768, out_features=3072, bias=True)\n",
       "          )\n",
       "          (output): BertOutput(\n",
       "            (dense): Linear(in_features=3072, out_features=768, bias=True)\n",
       "            (LayerNorm): LayerNorm((768,), eps=1e-12, elementwise_affine=True)\n",
       "            (dropout): Dropout(p=0.1, inplace=False)\n",
       "          )\n",
       "        )\n",
       "        (2): BertLayer(\n",
       "          (attention): BertAttention(\n",
       "            (self): BertSelfAttention(\n",
       "              (query): Linear(in_features=768, out_features=768, bias=True)\n",
       "              (key): Linear(in_features=768, out_features=768, bias=True)\n",
       "              (value): Linear(in_features=768, out_features=768, bias=True)\n",
       "              (dropout): Dropout(p=0.1, inplace=False)\n",
       "            )\n",
       "            (output): BertSelfOutput(\n",
       "              (dense): Linear(in_features=768, out_features=768, bias=True)\n",
       "              (LayerNorm): LayerNorm((768,), eps=1e-12, elementwise_affine=True)\n",
       "              (dropout): Dropout(p=0.1, inplace=False)\n",
       "            )\n",
       "          )\n",
       "          (intermediate): BertIntermediate(\n",
       "            (dense): Linear(in_features=768, out_features=3072, bias=True)\n",
       "          )\n",
       "          (output): BertOutput(\n",
       "            (dense): Linear(in_features=3072, out_features=768, bias=True)\n",
       "            (LayerNorm): LayerNorm((768,), eps=1e-12, elementwise_affine=True)\n",
       "            (dropout): Dropout(p=0.1, inplace=False)\n",
       "          )\n",
       "        )\n",
       "        (3): BertLayer(\n",
       "          (attention): BertAttention(\n",
       "            (self): BertSelfAttention(\n",
       "              (query): Linear(in_features=768, out_features=768, bias=True)\n",
       "              (key): Linear(in_features=768, out_features=768, bias=True)\n",
       "              (value): Linear(in_features=768, out_features=768, bias=True)\n",
       "              (dropout): Dropout(p=0.1, inplace=False)\n",
       "            )\n",
       "            (output): BertSelfOutput(\n",
       "              (dense): Linear(in_features=768, out_features=768, bias=True)\n",
       "              (LayerNorm): LayerNorm((768,), eps=1e-12, elementwise_affine=True)\n",
       "              (dropout): Dropout(p=0.1, inplace=False)\n",
       "            )\n",
       "          )\n",
       "          (intermediate): BertIntermediate(\n",
       "            (dense): Linear(in_features=768, out_features=3072, bias=True)\n",
       "          )\n",
       "          (output): BertOutput(\n",
       "            (dense): Linear(in_features=3072, out_features=768, bias=True)\n",
       "            (LayerNorm): LayerNorm((768,), eps=1e-12, elementwise_affine=True)\n",
       "            (dropout): Dropout(p=0.1, inplace=False)\n",
       "          )\n",
       "        )\n",
       "        (4): BertLayer(\n",
       "          (attention): BertAttention(\n",
       "            (self): BertSelfAttention(\n",
       "              (query): Linear(in_features=768, out_features=768, bias=True)\n",
       "              (key): Linear(in_features=768, out_features=768, bias=True)\n",
       "              (value): Linear(in_features=768, out_features=768, bias=True)\n",
       "              (dropout): Dropout(p=0.1, inplace=False)\n",
       "            )\n",
       "            (output): BertSelfOutput(\n",
       "              (dense): Linear(in_features=768, out_features=768, bias=True)\n",
       "              (LayerNorm): LayerNorm((768,), eps=1e-12, elementwise_affine=True)\n",
       "              (dropout): Dropout(p=0.1, inplace=False)\n",
       "            )\n",
       "          )\n",
       "          (intermediate): BertIntermediate(\n",
       "            (dense): Linear(in_features=768, out_features=3072, bias=True)\n",
       "          )\n",
       "          (output): BertOutput(\n",
       "            (dense): Linear(in_features=3072, out_features=768, bias=True)\n",
       "            (LayerNorm): LayerNorm((768,), eps=1e-12, elementwise_affine=True)\n",
       "            (dropout): Dropout(p=0.1, inplace=False)\n",
       "          )\n",
       "        )\n",
       "        (5): BertLayer(\n",
       "          (attention): BertAttention(\n",
       "            (self): BertSelfAttention(\n",
       "              (query): Linear(in_features=768, out_features=768, bias=True)\n",
       "              (key): Linear(in_features=768, out_features=768, bias=True)\n",
       "              (value): Linear(in_features=768, out_features=768, bias=True)\n",
       "              (dropout): Dropout(p=0.1, inplace=False)\n",
       "            )\n",
       "            (output): BertSelfOutput(\n",
       "              (dense): Linear(in_features=768, out_features=768, bias=True)\n",
       "              (LayerNorm): LayerNorm((768,), eps=1e-12, elementwise_affine=True)\n",
       "              (dropout): Dropout(p=0.1, inplace=False)\n",
       "            )\n",
       "          )\n",
       "          (intermediate): BertIntermediate(\n",
       "            (dense): Linear(in_features=768, out_features=3072, bias=True)\n",
       "          )\n",
       "          (output): BertOutput(\n",
       "            (dense): Linear(in_features=3072, out_features=768, bias=True)\n",
       "            (LayerNorm): LayerNorm((768,), eps=1e-12, elementwise_affine=True)\n",
       "            (dropout): Dropout(p=0.1, inplace=False)\n",
       "          )\n",
       "        )\n",
       "        (6): BertLayer(\n",
       "          (attention): BertAttention(\n",
       "            (self): BertSelfAttention(\n",
       "              (query): Linear(in_features=768, out_features=768, bias=True)\n",
       "              (key): Linear(in_features=768, out_features=768, bias=True)\n",
       "              (value): Linear(in_features=768, out_features=768, bias=True)\n",
       "              (dropout): Dropout(p=0.1, inplace=False)\n",
       "            )\n",
       "            (output): BertSelfOutput(\n",
       "              (dense): Linear(in_features=768, out_features=768, bias=True)\n",
       "              (LayerNorm): LayerNorm((768,), eps=1e-12, elementwise_affine=True)\n",
       "              (dropout): Dropout(p=0.1, inplace=False)\n",
       "            )\n",
       "          )\n",
       "          (intermediate): BertIntermediate(\n",
       "            (dense): Linear(in_features=768, out_features=3072, bias=True)\n",
       "          )\n",
       "          (output): BertOutput(\n",
       "            (dense): Linear(in_features=3072, out_features=768, bias=True)\n",
       "            (LayerNorm): LayerNorm((768,), eps=1e-12, elementwise_affine=True)\n",
       "            (dropout): Dropout(p=0.1, inplace=False)\n",
       "          )\n",
       "        )\n",
       "        (7): BertLayer(\n",
       "          (attention): BertAttention(\n",
       "            (self): BertSelfAttention(\n",
       "              (query): Linear(in_features=768, out_features=768, bias=True)\n",
       "              (key): Linear(in_features=768, out_features=768, bias=True)\n",
       "              (value): Linear(in_features=768, out_features=768, bias=True)\n",
       "              (dropout): Dropout(p=0.1, inplace=False)\n",
       "            )\n",
       "            (output): BertSelfOutput(\n",
       "              (dense): Linear(in_features=768, out_features=768, bias=True)\n",
       "              (LayerNorm): LayerNorm((768,), eps=1e-12, elementwise_affine=True)\n",
       "              (dropout): Dropout(p=0.1, inplace=False)\n",
       "            )\n",
       "          )\n",
       "          (intermediate): BertIntermediate(\n",
       "            (dense): Linear(in_features=768, out_features=3072, bias=True)\n",
       "          )\n",
       "          (output): BertOutput(\n",
       "            (dense): Linear(in_features=3072, out_features=768, bias=True)\n",
       "            (LayerNorm): LayerNorm((768,), eps=1e-12, elementwise_affine=True)\n",
       "            (dropout): Dropout(p=0.1, inplace=False)\n",
       "          )\n",
       "        )\n",
       "        (8): BertLayer(\n",
       "          (attention): BertAttention(\n",
       "            (self): BertSelfAttention(\n",
       "              (query): Linear(in_features=768, out_features=768, bias=True)\n",
       "              (key): Linear(in_features=768, out_features=768, bias=True)\n",
       "              (value): Linear(in_features=768, out_features=768, bias=True)\n",
       "              (dropout): Dropout(p=0.1, inplace=False)\n",
       "            )\n",
       "            (output): BertSelfOutput(\n",
       "              (dense): Linear(in_features=768, out_features=768, bias=True)\n",
       "              (LayerNorm): LayerNorm((768,), eps=1e-12, elementwise_affine=True)\n",
       "              (dropout): Dropout(p=0.1, inplace=False)\n",
       "            )\n",
       "          )\n",
       "          (intermediate): BertIntermediate(\n",
       "            (dense): Linear(in_features=768, out_features=3072, bias=True)\n",
       "          )\n",
       "          (output): BertOutput(\n",
       "            (dense): Linear(in_features=3072, out_features=768, bias=True)\n",
       "            (LayerNorm): LayerNorm((768,), eps=1e-12, elementwise_affine=True)\n",
       "            (dropout): Dropout(p=0.1, inplace=False)\n",
       "          )\n",
       "        )\n",
       "        (9): BertLayer(\n",
       "          (attention): BertAttention(\n",
       "            (self): BertSelfAttention(\n",
       "              (query): Linear(in_features=768, out_features=768, bias=True)\n",
       "              (key): Linear(in_features=768, out_features=768, bias=True)\n",
       "              (value): Linear(in_features=768, out_features=768, bias=True)\n",
       "              (dropout): Dropout(p=0.1, inplace=False)\n",
       "            )\n",
       "            (output): BertSelfOutput(\n",
       "              (dense): Linear(in_features=768, out_features=768, bias=True)\n",
       "              (LayerNorm): LayerNorm((768,), eps=1e-12, elementwise_affine=True)\n",
       "              (dropout): Dropout(p=0.1, inplace=False)\n",
       "            )\n",
       "          )\n",
       "          (intermediate): BertIntermediate(\n",
       "            (dense): Linear(in_features=768, out_features=3072, bias=True)\n",
       "          )\n",
       "          (output): BertOutput(\n",
       "            (dense): Linear(in_features=3072, out_features=768, bias=True)\n",
       "            (LayerNorm): LayerNorm((768,), eps=1e-12, elementwise_affine=True)\n",
       "            (dropout): Dropout(p=0.1, inplace=False)\n",
       "          )\n",
       "        )\n",
       "        (10): BertLayer(\n",
       "          (attention): BertAttention(\n",
       "            (self): BertSelfAttention(\n",
       "              (query): Linear(in_features=768, out_features=768, bias=True)\n",
       "              (key): Linear(in_features=768, out_features=768, bias=True)\n",
       "              (value): Linear(in_features=768, out_features=768, bias=True)\n",
       "              (dropout): Dropout(p=0.1, inplace=False)\n",
       "            )\n",
       "            (output): BertSelfOutput(\n",
       "              (dense): Linear(in_features=768, out_features=768, bias=True)\n",
       "              (LayerNorm): LayerNorm((768,), eps=1e-12, elementwise_affine=True)\n",
       "              (dropout): Dropout(p=0.1, inplace=False)\n",
       "            )\n",
       "          )\n",
       "          (intermediate): BertIntermediate(\n",
       "            (dense): Linear(in_features=768, out_features=3072, bias=True)\n",
       "          )\n",
       "          (output): BertOutput(\n",
       "            (dense): Linear(in_features=3072, out_features=768, bias=True)\n",
       "            (LayerNorm): LayerNorm((768,), eps=1e-12, elementwise_affine=True)\n",
       "            (dropout): Dropout(p=0.1, inplace=False)\n",
       "          )\n",
       "        )\n",
       "        (11): BertLayer(\n",
       "          (attention): BertAttention(\n",
       "            (self): BertSelfAttention(\n",
       "              (query): Linear(in_features=768, out_features=768, bias=True)\n",
       "              (key): Linear(in_features=768, out_features=768, bias=True)\n",
       "              (value): Linear(in_features=768, out_features=768, bias=True)\n",
       "              (dropout): Dropout(p=0.1, inplace=False)\n",
       "            )\n",
       "            (output): BertSelfOutput(\n",
       "              (dense): Linear(in_features=768, out_features=768, bias=True)\n",
       "              (LayerNorm): LayerNorm((768,), eps=1e-12, elementwise_affine=True)\n",
       "              (dropout): Dropout(p=0.1, inplace=False)\n",
       "            )\n",
       "          )\n",
       "          (intermediate): BertIntermediate(\n",
       "            (dense): Linear(in_features=768, out_features=3072, bias=True)\n",
       "          )\n",
       "          (output): BertOutput(\n",
       "            (dense): Linear(in_features=3072, out_features=768, bias=True)\n",
       "            (LayerNorm): LayerNorm((768,), eps=1e-12, elementwise_affine=True)\n",
       "            (dropout): Dropout(p=0.1, inplace=False)\n",
       "          )\n",
       "        )\n",
       "      )\n",
       "    )\n",
       "    (pooler): BertPooler(\n",
       "      (dense): Linear(in_features=768, out_features=768, bias=True)\n",
       "      (activation): Tanh()\n",
       "    )\n",
       "  )\n",
       "  (dropout): Dropout(p=0.1, inplace=False)\n",
       "  (classifier): Linear(in_features=768, out_features=2, bias=True)\n",
       ")"
      ]
     },
     "execution_count": 149,
     "metadata": {},
     "output_type": "execute_result"
    }
   ],
   "source": [
    "model = BertForSequenceClassification.from_pretrained(\n",
    "    \"bert-base-uncased\", \n",
    "    num_labels = len(label_lst),  \n",
    "    output_attentions = False, \n",
    "    output_hidden_states = False\n",
    ")\n",
    "model.cuda()"
   ]
  },
  {
   "cell_type": "code",
   "execution_count": 150,
   "metadata": {},
   "outputs": [
    {
     "name": "stdout",
     "output_type": "stream",
     "text": [
      "There are 8 GPU(s) available.\n",
      "We will use the GPU: Quadro RTX 8000\n"
     ]
    }
   ],
   "source": [
    "if torch.cuda.is_available():       \n",
    "    device = torch.device(\"cuda\")\n",
    "    print('There are %d GPU(s) available.' % torch.cuda.device_count())\n",
    "    print('We will use the GPU:', torch.cuda.get_device_name(6))\n",
    "else:\n",
    "    print('No GPU available, using the CPU instead.')\n",
    "    device = torch.device(\"cpu\")"
   ]
  },
  {
   "cell_type": "code",
   "execution_count": 151,
   "metadata": {},
   "outputs": [],
   "source": [
    "optimizer = AdamW(model.parameters(),\n",
    "                  lr = 2e-5,\n",
    "                  eps = 1e-8)"
   ]
  },
  {
   "cell_type": "code",
   "execution_count": 152,
   "metadata": {},
   "outputs": [
    {
     "name": "stdout",
     "output_type": "stream",
     "text": [
      "\n",
      "Epoch 1\n",
      "Training...\n",
      "Average training loss: 0.62\n",
      "\n",
      "Epoch 2\n",
      "Training...\n",
      "Average training loss: 0.42\n",
      "\n",
      "Epoch 3\n",
      "Training...\n",
      "Average training loss: 0.29\n",
      "\n",
      "Epoch 4\n",
      "Training...\n",
      "Average training loss: 0.15\n",
      "\n",
      "Epoch 5\n",
      "Training...\n",
      "Average training loss: 0.08\n",
      "\n",
      "Epoch 6\n",
      "Training...\n",
      "Average training loss: 0.06\n",
      "\n",
      "Epoch 7\n",
      "Training...\n",
      "Average training loss: 0.07\n",
      "\n",
      "Epoch 8\n",
      "Training...\n",
      "Average training loss: 0.02\n",
      "\n",
      "Epoch 9\n",
      "Training...\n",
      "Average training loss: 0.01\n",
      "\n",
      "Epoch 10\n",
      "Training...\n",
      "Average training loss: 0.01\n"
     ]
    }
   ],
   "source": [
    "for epoch_i in range(10):\n",
    "    print(\"\")\n",
    "    print('Epoch {}'.format(epoch_i + 1))\n",
    "    print('Training...')\n",
    "    \n",
    "    total_loss = 0\n",
    "    model.train()\n",
    "    for batch in train_dataloader:\n",
    "        batch = tuple(t.to(device) for t in batch)\n",
    "        b_input_ids, b_input_mask, b_labels = batch\n",
    "        \n",
    "        model.zero_grad()\n",
    "        outputs = model(b_input_ids, \n",
    "                    token_type_ids=None, \n",
    "                    attention_mask=b_input_mask, \n",
    "                    labels=b_labels)\n",
    "        loss = outputs[0]\n",
    "        total_loss += loss.item()\n",
    "        loss.backward()\n",
    "        torch.nn.utils.clip_grad_norm_(model.parameters(), 1.0)\n",
    "        optimizer.step()\n",
    "        \n",
    "    avg_train_loss = total_loss / len(train_dataloader)\n",
    "    print(\"Average training loss: {0:.2f}\".format(avg_train_loss))"
   ]
  },
  {
   "cell_type": "code",
   "execution_count": 153,
   "metadata": {},
   "outputs": [],
   "source": [
    "model.eval()\n",
    "preds_test = []\n",
    "labels_test = []\n",
    "for batch in test_dataloader:\n",
    "    batch = tuple(t.to(device) for t in batch)\n",
    "    b_input_ids, b_input_mask, b_labels = batch\n",
    "    with torch.no_grad():\n",
    "        outputs = model(b_input_ids, \n",
    "                        token_type_ids=None, \n",
    "                        attention_mask=b_input_mask)\n",
    "    logits = outputs[0]\n",
    "    logits = logits.detach().cpu().numpy()\n",
    "    label_ids = b_labels.to('cpu').numpy()\n",
    "\n",
    "    preds_flat = np.argmax(logits, axis=1).flatten()\n",
    "    labels_flat = label_ids.flatten()\n",
    "    \n",
    "    preds_test += list(preds_flat)\n",
    "    labels_test += list(labels_flat)"
   ]
  },
  {
   "cell_type": "code",
   "execution_count": 154,
   "metadata": {},
   "outputs": [
    {
     "name": "stdout",
     "output_type": "stream",
     "text": [
      "Accuracy: 0.846875\n",
      "Precision: 0.849616439445129\n",
      "Recall: 0.8444548872180451\n",
      "Macro F1: 0.8456069870715546\n"
     ]
    }
   ],
   "source": [
    "print(\"Accuracy:\", accuracy_score(labels_test, preds_test))\n",
    "print(\"Precision:\", precision_score(labels_test, preds_test, average=\"macro\"))\n",
    "print(\"Recall:\", recall_score(labels_test, preds_test, average=\"macro\"))\n",
    "print(\"Macro F1:\", f1_score(labels_test, preds_test, average=\"macro\"))"
   ]
  },
  {
   "cell_type": "code",
   "execution_count": 155,
   "metadata": {},
   "outputs": [],
   "source": [
    "labels_test_txt = list(map(lambda x: index_to_label[x], labels_test))\n",
    "preds_test_txt = list(map(lambda x: index_to_label[x], preds_test))\n",
    "cnf_matrix = confusion_matrix(labels_test_txt, preds_test_txt, labels=['deceptive', 'truthful'])"
   ]
  },
  {
   "cell_type": "code",
   "execution_count": 156,
   "metadata": {},
   "outputs": [
    {
     "name": "stdout",
     "output_type": "stream",
     "text": [
      "Confusion matrix, without normalization\n",
      "[[150  18]\n",
      " [ 31 121]]\n"
     ]
    },
    {
     "data": {
      "image/png": "[encoded data removed]",
      "text/plain": [
       "<Figure size 432x288 with 2 Axes>"
      ]
     },
     "metadata": {
      "needs_background": "light"
     },
     "output_type": "display_data"
    }
   ],
   "source": [
    "\n",
    "plt.grid(False)\n",
    "plot_confusion_matrix(cnf_matrix, classes=['deceptive', 'truthful'], \n",
    "                      title='BERT Classifier: \\nConfusion matrix for Deceptive Opinion Spam Detection')"
   ]
  },
  {
   "cell_type": "code",
   "execution_count": 183,
   "metadata": {},
   "outputs": [
    {
     "name": "stdout",
     "output_type": "stream",
     "text": [
      "              precision    recall  f1-score   support\n",
      "\n",
      "   deceptive       0.83      0.89      0.86       168\n",
      "    truthful       0.87      0.80      0.83       152\n",
      "\n",
      "    accuracy                           0.85       320\n",
      "   macro avg       0.85      0.84      0.85       320\n",
      "weighted avg       0.85      0.85      0.85       320\n",
      "\n"
     ]
    }
   ],
   "source": [
    "print(clsr(labels_test, preds_test, target_names=['deceptive', 'truthful']))"
   ]
  },
  {
   "cell_type": "markdown",
   "metadata": {},
   "source": []
  },
  {
   "cell_type": "markdown",
   "metadata": {},
   "source": [
    "We also used BERT which is a transformer-based machine learning model for our classification problem. For BERT model, it is different from logistic regression. We pass in the textual data and BERT will tokenize the texts by inserting some tokens to indicate the start and end of the sentence. BERT will also use mask to separate different sentences. Each token will be mapped to a token id. Position embeddings are also added to indicate the position of each token. After tokenizing the input, the token ids as well as the attention masks will be fed into classifier."
   ]
  },
  {
   "cell_type": "markdown",
   "metadata": {},
   "source": [
    "## Conclusion"
   ]
  },
  {
   "cell_type": "markdown",
   "metadata": {},
   "source": [
    "Based on the evaluation on the test set, we can observe that BERT model is slightly better than logistic regression and Naive Bayes, but not as good as SVM. This could be because that the dataset is not a complex task. For more complex tasks, BERT model can be expected to perform better. But overall, all the models we trained made pretty accurate predictions on this dataset.\n",
    "\n",
    "In the future, we could improve by incorporating word2vec embeddings instead of using TF-IDF and\n",
    "count vectorizers, or include more feature engineering techniques before modeling."
   ]
  },
  {
   "cell_type": "code",
   "execution_count": null,
   "metadata": {},
   "outputs": [],
   "source": []
  }
 ],
 "metadata": {
  "kernelspec": {
   "display_name": "Python 3",
   "language": "python",
   "name": "python3"
  },
  "language_info": {
   "codemirror_mode": {
    "name": "ipython",
    "version": 3
   },
   "file_extension": ".py",
   "mimetype": "text/x-python",
   "name": "python",
   "nbconvert_exporter": "python",
   "pygments_lexer": "ipython3",
   "version": "3.7.4"
  }
 },
 "nbformat": 4,
 "nbformat_minor": 2
}
